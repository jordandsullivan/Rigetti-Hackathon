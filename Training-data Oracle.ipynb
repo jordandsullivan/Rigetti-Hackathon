{
 "cells": [
  {
   "cell_type": "code",
   "execution_count": 2,
   "metadata": {
    "collapsed": true
   },
   "outputs": [],
   "source": [
    "from pyquil.quil import Program\n",
    "from pyquil.api import QVMConnection\n",
    "from pyquil.gates import *\n",
    "from pyquil.parameters import Parameter, quil_sin, quil_cos\n",
    "from pyquil.quilbase import DefGate\n",
    "import numpy as np"
   ]
  },
  {
   "cell_type": "markdown",
   "metadata": {},
   "source": [
    "Initialize $R_y^{\\theta_1}$ "
   ]
  },
  {
   "cell_type": "code",
   "execution_count": 3,
   "metadata": {},
   "outputs": [],
   "source": [
    "theta = Parameter('theta')\n",
    "\n",
    "ccry = np.eye(8, dtype = object)\n",
    "ccry[6][6] = quil_cos(theta / 2)\n",
    "ccry[6][7] = - quil_sin(theta / 2)\n",
    "ccry[7][6] = quil_sin(theta / 2)\n",
    "ccry[7][7] = quil_cos(theta / 2)\n",
    "\n",
    "dg0 = DefGate('CCRY', ccry, [theta])\n",
    "CCRY = dg0.get_constructor()"
   ]
  },
  {
   "cell_type": "markdown",
   "metadata": {},
   "source": [
    "Initialize $R_y^{\\theta_2}$ "
   ]
  },
  {
   "cell_type": "code",
   "execution_count": 4,
   "metadata": {
    "collapsed": true
   },
   "outputs": [],
   "source": [
    "cncry = np.eye(8, dtype = object)\n",
    "cncry[2][2] = quil_cos(theta / 2)\n",
    "cncry[2][3] = - quil_sin(theta / 2)\n",
    "cncry[3][2] = quil_sin(theta / 2)\n",
    "cncry[3][3] = quil_cos(theta / 2)\n",
    "\n",
    "dg1 = DefGate('CNCRY', cncry, [theta])\n",
    "CNCRY = dg1.get_constructor()"
   ]
  },
  {
   "cell_type": "markdown",
   "metadata": {},
   "source": [
    "Testing "
   ]
  },
  {
   "cell_type": "code",
   "execution_count": 11,
   "metadata": {},
   "outputs": [],
   "source": [
    "def test_CCRY():\n",
    "    p = Program()   # clear the old program\n",
    "    p.inst(X(0), X(1), X(2), dg0, CCRY(np.pi)(0, 1, 2))\n",
    "\n",
    "    qvm = QVMConnection()\n",
    "    wavefunction = qvm.wavefunction(p)\n",
    "\n",
    "    print(wavefunction)"
   ]
  },
  {
   "cell_type": "code",
   "execution_count": 12,
   "metadata": {},
   "outputs": [],
   "source": [
    "def test_CNCRY():\n",
    "    p = Program()   # clear the old program\n",
    "    p.inst(X(0), X(1), X(2), dg1, CNCRY(np.pi)(0, 1, 2))\n",
    "\n",
    "    qvm = QVMConnection()\n",
    "    wavefunction = qvm.wavefunction(p)\n",
    "\n",
    "    print(wavefunction)"
   ]
  },
  {
   "cell_type": "code",
   "execution_count": 13,
   "metadata": {},
   "outputs": [],
   "source": [
    "def add_training_oracle(p, theta_1, theta_2):\n",
    "    p.inst(dg1, CNCRY(theta_2)(3, 2, 1))\n",
    "    p.inst(dg0, CCRY(theta_1)(3, 2, 1))\n",
    "    return p"
   ]
  },
  {
   "cell_type": "code",
   "execution_count": null,
   "metadata": {
    "collapsed": true
   },
   "outputs": [],
   "source": []
  }
 ],
 "metadata": {
  "kernelspec": {
   "display_name": "Python 3",
   "language": "python",
   "name": "python3"
  },
  "language_info": {
   "codemirror_mode": {
    "name": "ipython",
    "version": 3
   },
   "file_extension": ".py",
   "mimetype": "text/x-python",
   "name": "python",
   "nbconvert_exporter": "python",
   "pygments_lexer": "ipython3",
   "version": "3.6.1"
  }
 },
 "nbformat": 4,
 "nbformat_minor": 2
}

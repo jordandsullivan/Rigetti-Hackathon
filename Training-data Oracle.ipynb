{
 "cells": [
  {
   "cell_type": "code",
   "execution_count": 54,
   "metadata": {},
   "outputs": [],
   "source": [
    "from pyquil.quil import Program\n",
    "from pyquil.api import QVMConnection\n",
    "from pyquil.gates import *\n",
    "from pyquil.parameters import Parameter, quil_sin, quil_cos\n",
    "from pyquil.quilbase import DefGate\n",
    "import numpy as np\n"
   ]
  },
  {
   "cell_type": "markdown",
   "metadata": {},
   "source": [
    "Initialize $R_y^{\\theta_1}$ "
   ]
  },
  {
   "cell_type": "code",
   "execution_count": 66,
   "metadata": {},
   "outputs": [
    {
     "name": "stdout",
     "output_type": "stream",
     "text": [
      "[[1 0 0 0 0 0 0 0]\n",
      " [0 1 0 0 0 0 0 0]\n",
      " [0 0 1 0 0 0 0 0]\n",
      " [0 0 0 1 0 0 0 0]\n",
      " [0 0 0 0 1 0 0 0]\n",
      " [0 0 0 0 0 1 0 0]\n",
      " [0 0 0 0 0 0 Function('cos',Div(Parameter('theta'),2),<ufunc 'cos'>)\n",
      "  Mul(-1,Function('sin',Div(Parameter('theta'),2),<ufunc 'sin'>))]\n",
      " [0 0 0 0 0 0 Function('sin',Div(Parameter('theta'),2),<ufunc 'sin'>)\n",
      "  Function('cos',Div(Parameter('theta'),2),<ufunc 'cos'>)]]\n"
     ]
    }
   ],
   "source": [
    "theta = Parameter('theta')\n",
    "\n",
    "ccry = np.eye(8, dtype = object)\n",
    "ccry[6][6] = quil_cos(theta / 2)\n",
    "ccry[6][7] = - quil_sin(theta / 2)\n",
    "ccry[7][6] = quil_sin(theta / 2)\n",
    "ccry[7][7] = quil_cos(theta / 2)\n",
    "\n",
    "dg0 = DefGate('CCRY', ccry, [theta])\n",
    "CCRY = dg0.get_constructor()\n",
    "\n",
    "print (ccry)"
   ]
  },
  {
   "cell_type": "markdown",
   "metadata": {},
   "source": [
    "Initialize $R_y^{\\theta_2}$ "
   ]
  },
  {
   "cell_type": "code",
   "execution_count": 67,
   "metadata": {},
   "outputs": [],
   "source": [
    "cncry = np.eye(8, dtype = object)\n",
    "cncry[2][2] = quil_cos(theta / 2)\n",
    "cncry[2][3] = - quil_sin(theta / 2)\n",
    "cncry[3][2] = quil_sin(theta / 2)\n",
    "cncry[3][3] = quil_cos(theta / 2)\n",
    "\n",
    "dg1 = DefGate('CNCRY', cncry, [theta])\n",
    "CNCRY = dg1.get_constructor()\n"
   ]
  },
  {
   "cell_type": "markdown",
   "metadata": {},
   "source": [
    "Testing "
   ]
  },
  {
   "cell_type": "code",
   "execution_count": 68,
   "metadata": {},
   "outputs": [
    {
     "name": "stdout",
     "output_type": "stream",
     "text": [
      "(-1+0j)|011>\n"
     ]
    }
   ],
   "source": [
    "p = Program()   # clear the old program\n",
    "p.inst(dg0, X(0), X(1), X(2), CCRY(np.pi)(0, 1, 2))\n",
    "\n",
    "qvm = QVMConnection()\n",
    "wavefunction = qvm.wavefunction(p)\n",
    "\n",
    "print(wavefunction)"
   ]
  },
  {
   "cell_type": "code",
   "execution_count": 69,
   "metadata": {},
   "outputs": [
    {
     "name": "stdout",
     "output_type": "stream",
     "text": [
      "(1+0j)|111>\n"
     ]
    }
   ],
   "source": [
    "p = Program()   # clear the old program\n",
    "p.inst(dg1, X(0), X(1), X(2), CNCRY(np.pi)(0, 1, 2))\n",
    "\n",
    "qvm = QVMConnection()\n",
    "wavefunction = qvm.wavefunction(p)\n",
    "\n",
    "print(wavefunction)"
   ]
  },
  {
   "cell_type": "code",
   "execution_count": 70,
   "metadata": {},
   "outputs": [
    {
     "data": {
      "text/plain": [
       "<pyquil.quil.Program at 0x109a1af60>"
      ]
     },
     "execution_count": 70,
     "metadata": {},
     "output_type": "execute_result"
    }
   ],
   "source": [
    "theta_1 = 0\n",
    "theta_2 = 0\n",
    "\n",
    "p = Program()   # whatever they give us\n",
    "p.inst(CNCRY(theta_2)(3, 2, 1))\n",
    "p.inst(CCRY(theta_1)(3, 2, 1))"
   ]
  },
  {
   "cell_type": "code",
   "execution_count": null,
   "metadata": {},
   "outputs": [],
   "source": []
  }
 ],
 "metadata": {
  "kernelspec": {
   "display_name": "Python 3",
   "language": "python",
   "name": "python3"
  },
  "language_info": {
   "codemirror_mode": {
    "name": "ipython",
    "version": 3
   },
   "file_extension": ".py",
   "mimetype": "text/x-python",
   "name": "python",
   "nbconvert_exporter": "python",
   "pygments_lexer": "ipython3",
   "version": "3.6.3"
  }
 },
 "nbformat": 4,
 "nbformat_minor": 2
}

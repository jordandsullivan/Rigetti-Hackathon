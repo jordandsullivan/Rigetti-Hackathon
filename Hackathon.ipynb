{
 "cells": [
  {
   "cell_type": "code",
   "execution_count": 1,
   "metadata": {
    "collapsed": false,
    "deletable": true,
    "editable": true
   },
   "outputs": [],
   "source": [
    "import pyquil"
   ]
  },
  {
   "cell_type": "code",
   "execution_count": 60,
   "metadata": {
    "collapsed": false,
    "deletable": true,
    "editable": true
   },
   "outputs": [],
   "source": [
    "from pyquil.quil import Program \n",
    "from pyquil.gates import *\n",
    "from pyquil.api import QVMConnection"
   ]
  },
  {
   "cell_type": "code",
   "execution_count": 1,
   "metadata": {
    "collapsed": false,
    "deletable": true,
    "editable": true
   },
   "outputs": [],
   "source": [
    "import numpy as np\n",
    "import scipy\n",
    "from scipy.linalg import expm, sinm, cosm"
   ]
  },
  {
   "cell_type": "code",
   "execution_count": null,
   "metadata": {
    "collapsed": true
   },
   "outputs": [],
   "source": [
    "import sys\n",
    "sys.path.append(\"/Users/Daniel/Rigetti/pyquil\") # CHANGE THIS TO YOUR ABSOLUTE PATH TO THE PYQUIL FOLDER"
   ]
  },
  {
   "cell_type": "code",
   "execution_count": 77,
   "metadata": {
    "collapsed": false,
    "deletable": true,
    "editable": true
   },
   "outputs": [
    {
     "name": "stdout",
     "output_type": "stream",
     "text": [
      "[[ 1.0065  0.2425]\n",
      " [ 0.2425  0.9935]]\n"
     ]
    }
   ],
   "source": [
    "K = np.array([[0.5065, 0.2425], \n",
    "              [0.2425, 0.4935]])\n",
    "gamma = 2\n",
    "F = K + 1/gamma*np.eye(2)"
   ]
  },
  {
   "cell_type": "code",
   "execution_count": 108,
   "metadata": {
    "collapsed": false,
    "deletable": true,
    "editable": true
   },
   "outputs": [],
   "source": [
    "class Inverse():\n",
    "    def __init__(self, F, program, qvm, theta0, theta1, theta2):\n",
    "        self.F = F\n",
    "        self.program = program\n",
    "        self.qvm = qvm\n",
    "        self.first, self.second, self.y, self.anc = (0,1,2,3)\n",
    "        \n",
    "        self.theta0 = theta0\n",
    "        self.theta1 = theta1\n",
    "        self.theta2 = theta2\n",
    "\n",
    "#     def expmatrix(self, val,matrix):  \n",
    "#         return expm(val*1j*self.F)\n",
    "    \n",
    "    def controlMake(self, M):\n",
    "        \"\"\"Creates control gates from M.\n",
    "        param:\n",
    "            M: (matrix) to control\n",
    "        returns:\n",
    "            (matrix) controlled.\"\"\"\n",
    "        zero = np.zeros((2,2))\n",
    "        I = np.eye(2)\n",
    "        top = np.concatenate((I, zero), axis = 1)\n",
    "        bottom = np.concatenate((zero, M), axis = 1)\n",
    "        res = np.concatenate((top, bottom), axis = 0)\n",
    "        return res\n",
    "    \n",
    "    def CRY(self, angle):\n",
    "        \"\"\"Creates control RY gate.\n",
    "        param:\n",
    "            angle: (float) by how much to rotate\n",
    "        returns:\n",
    "            matrix.\"\"\"\n",
    "        Y = np.array([[0, -1j], [1j, 0]])\n",
    "        expY = expm(-angle/2. * 1j * Y)\n",
    "        return self.controlMake(expY)\n",
    "    \n",
    "    def CCRY(self, angle):\n",
    "        Y = np.array([[0, -1j], [1j, 0]])\n",
    "        expY = expm(-angle/2. * 1j * Y)\n",
    "        \n",
    "        ccry = np.eye(8)\n",
    "        ccry[6][6] = expY[0][0]\n",
    "        ccry[6][7] = expY[0][1]\n",
    "        ccry[7][6] = expY[1][0]\n",
    "        ccry[7][7] = expY[1][1]\n",
    "\n",
    "        return ccry\n",
    "    \n",
    "    def NCCRY(self, angle):\n",
    "        Y = np.array([[0, -1j], [1j, 0]])\n",
    "        expY = expm(-angle/2. * 1j * Y)\n",
    "        \n",
    "        cncry = np.eye(8)\n",
    "        cncry[2][2] = expY[0][0]\n",
    "        cncry[2][3] = expY[0][1]\n",
    "        cncry[3][2] = expY[1][0]\n",
    "        cncry[3][3] = expY[1][1]\n",
    "        \n",
    "        return cncry\n",
    "        \n",
    "    def HGate(self):\n",
    "        return self.controlMake(np.sqrt(0.5) * np.array([[1,1], [1,-1]]))\n",
    "    \n",
    "    \n",
    "    def main(self):\n",
    "        # add hadamards\n",
    "        self.program += H(self.first)\n",
    "        self.program += H(self.second)\n",
    "        \n",
    "        # add the exponent gates\n",
    "        expF = expm(np.pi*1j*self.F)\n",
    "        expF = self.controlMake(expF)\n",
    "        self.program = self.program.defgate(\"expF\", expF)\n",
    "        self.program.inst((\"expF\", self.first, self.y))\n",
    "        \n",
    "        expFhalf = expm(np.pi/2.*1j*self.F)\n",
    "        expFhalf = self.controlMake(expFhalf)\n",
    "        self.program = self.program.defgate(\"expFhalf\", expFhalf)\n",
    "        self.program.inst((\"expFhalf\", self.second, self.y))\n",
    "        \n",
    "        self.program += SWAP(self.first, self.second)\n",
    "        self.program += H(self.second)\n",
    "        \n",
    "        #S inverse\n",
    "        self.program += CPHASE(-np.pi/2, self.second, self.first) # right order of qubits?\n",
    "        \n",
    "        self.program += H(self.first)\n",
    "        \n",
    "        CRYpi4 = self.CRY(np.pi/4.)\n",
    "        self.program = self.program.defgate(\"CRYpi4\", CRYpi4)\n",
    "        self.program.inst((\"CRYpi4\", self.second, self.anc))\n",
    "        \n",
    "        CRYpi8 = self.CRY(np.pi/8.)\n",
    "        self.program = self.program.defgate(\"CRYpi8\", CRYpi8)\n",
    "        self.program.inst((\"CRYpi8\", self.first, self.anc))  \n",
    "        \n",
    "        self.program += H(self.first)\n",
    "        \n",
    "        self.program += CPHASE(np.pi/2, self.second, self.first) # right order of qubits?\n",
    "        \n",
    "        self.program += H(self.second)\n",
    "        \n",
    "        self.program += SWAP(self.first, self.second)\n",
    "        \n",
    "        minusExpFhalf = expm(-np.pi/2.*1j*self.F)\n",
    "        minusExpFhalf = self.controlMake(minusExpFhalf)\n",
    "        self.program = self.program.defgate(\"minusExpFhalf\", minusExpFhalf)\n",
    "        self.program.inst((\"minusExpFhalf\", self.second, self.y))\n",
    "        \n",
    "        minusExpF = expm(-np.pi*1j*self.F)\n",
    "        minusExpF = self.controlMake(minusExpF)\n",
    "        self.program = self.program.defgate(\"minusExpF\", minusExpF)\n",
    "        self.program.inst((\"minusExpF\", self.second, self.y))\n",
    "        \n",
    "        self.program += H(self.first)\n",
    "        self.program += H(self.second)\n",
    "        \n",
    "        theta1Gate = self.NCCRY(self.theta1)\n",
    "        self.program = self.program.defgate(\"theta1Gate\", theta1Gate)\n",
    "        self.program.inst((\"theta1Gate\", self.anc, self.y, self.second))\n",
    "        \n",
    "        theta2Gate = self.CCRY(self.theta2)\n",
    "        self.program = self.program.defgate(\"theta2Gate\", theta2Gate)\n",
    "        self.program.inst((\"theta2Gate\", self.anc, self.y, self.second))\n",
    "        \n",
    "        theta0Gate = self.CRY(-self.theta0)\n",
    "        self.program = self.program.defgate(\"theta0Gate\", theta0Gate)\n",
    "        self.program.inst((\"theta0Gate\", self.anc, self.second))\n",
    "        \n",
    "        CH = self.HGate()\n",
    "        self.program = self.program.defgate(\"CH\", CH)\n",
    "        self.program.inst((\"CH\", self.y, self.anc))\n",
    "        \n",
    "        self.program += SWAP(self.first, self.anc)\n",
    "        \n",
    "        self.program += MEASURE(self.first, [0])\n",
    "        \n",
    "        print(self.program)\n",
    "        \n",
    "        return self.qvm.run(self.program, classical_addresses=[0], trials=10)\n",
    "        \n",
    "        \n",
    "        \n",
    "\n",
    "        \n",
    "        \n",
    "        \n",
    "\n",
    "\n",
    "        \n"
   ]
  },
  {
   "cell_type": "code",
   "execution_count": 109,
   "metadata": {
    "collapsed": false,
    "deletable": true,
    "editable": true
   },
   "outputs": [
    {
     "name": "stdout",
     "output_type": "stream",
     "text": [
      "DEFGATE expF:\n",
      "    1.0, 0.0, 0.0, 0.0\n",
      "    0.0, 1.0, 0.0, 0.0\n",
      "    0.0, 0.0, -0.72338088163488157-0.018500241159870121i, -7.8816046023640395e-17-0.69020130481053732i\n",
      "    0.0, 0.0, -7.998239811928397e-17-0.6902013048105371i, -0.72338088163488157+0.018500241159870281i\n",
      "\n",
      "DEFGATE expFhalf:\n",
      "    1.0, 0.0, 0.0, 0.0\n",
      "    0.0, 1.0, 0.0, 0.0\n",
      "    0.0, 0.0, -0.0099648727332346913+0.92827282671499167i, -0.37176640581683762+7.6867799821281707e-17i\n",
      "    0.0, 0.0, -0.37176640581683762+7.4155369628925033e-17i, 0.0099648727332350279+0.92827282671499156i\n",
      "\n",
      "DEFGATE CRYpi4:\n",
      "    1.0, 0.0, 0.0, 0.0\n",
      "    0.0, 1.0, 0.0, 0.0\n",
      "    0.0, 0.0, 0.92387953251128674, -0.38268343236508978\n",
      "    0.0, 0.0, 0.38268343236508978, 0.92387953251128663\n",
      "\n",
      "DEFGATE CRYpi8:\n",
      "    1.0, 0.0, 0.0, 0.0\n",
      "    0.0, 1.0, 0.0, 0.0\n",
      "    0.0, 0.0, 0.98078528040323043, -0.19509032201612828\n",
      "    0.0, 0.0, 0.19509032201612828, 0.98078528040323043\n",
      "\n",
      "DEFGATE minusExpFhalf:\n",
      "    1.0, 0.0, 0.0, 0.0\n",
      "    0.0, 1.0, 0.0, 0.0\n",
      "    0.0, 0.0, -0.0099648727332346913-0.92827282671499167i, -0.37176640581683762-7.6867799821281707e-17i\n",
      "    0.0, 0.0, -0.37176640581683762-7.4155369628925033e-17i, 0.0099648727332350279-0.92827282671499156i\n",
      "\n",
      "DEFGATE minusExpF:\n",
      "    1.0, 0.0, 0.0, 0.0\n",
      "    0.0, 1.0, 0.0, 0.0\n",
      "    0.0, 0.0, -0.72338088163488157+0.018500241159870121i, -7.8816046023640395e-17+0.69020130481053732i\n",
      "    0.0, 0.0, -7.998239811928397e-17+0.6902013048105371i, -0.72338088163488157-0.018500241159870281i\n",
      "\n",
      "DEFGATE theta1Gate:\n",
      "    1.0, 0, 0, 0, 0, 0, 0, 0\n",
      "    0, 1.0, 0, 0, 0, 0, 0, 0\n",
      "    0, 0, 0.7612633391425182, -0.64844284904498972, 0, 0, 0, 0\n",
      "    0, 0, 0.64844284904498972, 0.7612633391425182, 0, 0, 0, 0\n",
      "    0, 0, 0, 0, 1.0, 0, 0, 0\n",
      "    0, 0, 0, 0, 0, 1.0, 0, 0\n",
      "    0, 0, 0, 0, 0, 0, 1.0, 0\n",
      "    0, 0, 0, 0, 0, 0, 0, 1.0\n",
      "\n",
      "DEFGATE theta2Gate:\n",
      "    1.0, 0, 0, 0, 0, 0, 0, 0\n",
      "    0, 1.0, 0, 0, 0, 0, 0, 0\n",
      "    0, 0, 1.0, 0, 0, 0, 0, 0\n",
      "    0, 0, 0, 1.0, 0, 0, 0, 0\n",
      "    0, 0, 0, 0, 1.0, 0, 0, 0\n",
      "    0, 0, 0, 0, 0, 1.0, 0, 0\n",
      "    0, 0, 0, 0, 0, 0, 0.98367033512206015, -0.17997964274009953\n",
      "    0, 0, 0, 0, 0, 0, 0.1799796427400995, 0.98367033512206026\n",
      "\n",
      "DEFGATE theta0Gate:\n",
      "    1.0, 0.0, 0.0, 0.0\n",
      "    0.0, 1.0, 0.0, 0.0\n",
      "    0.0, 0.0, 0.7612633391425182, 0.64844284904498972\n",
      "    0.0, 0.0, -0.64844284904498972, 0.7612633391425182\n",
      "\n",
      "DEFGATE CH:\n",
      "    1.0, 0, 0, 0\n",
      "    0, 1.0, 0, 0\n",
      "    0, 0, 0.70710678118654757, 0.70710678118654757\n",
      "    0, 0, 0.70710678118654757, -0.70710678118654757\n",
      "\n",
      "H 0\n",
      "H 1\n",
      "expF 0 2\n",
      "expFhalf 1 2\n",
      "SWAP 0 1\n",
      "H 1\n",
      "CPHASE(-pi/2) 1 0\n",
      "H 0\n",
      "CRYpi4 1 3\n",
      "CRYpi8 0 3\n",
      "H 0\n",
      "CPHASE(pi/2) 1 0\n",
      "H 1\n",
      "SWAP 0 1\n",
      "minusExpFhalf 1 2\n",
      "minusExpF 1 2\n",
      "H 0\n",
      "H 1\n",
      "theta1Gate 3 2 1\n",
      "theta2Gate 3 2 1\n",
      "theta0Gate 3 1\n",
      "CH 2 3\n",
      "SWAP 0 3\n",
      "MEASURE 0 [0]\n",
      "\n"
     ]
    },
    {
     "name": "stderr",
     "output_type": "stream",
     "text": [
      "/usr/local/lib/python3.6/site-packages/ipykernel_launcher.py:55: ComplexWarning: Casting complex values to real discards the imaginary part\n",
      "/usr/local/lib/python3.6/site-packages/ipykernel_launcher.py:56: ComplexWarning: Casting complex values to real discards the imaginary part\n",
      "/usr/local/lib/python3.6/site-packages/ipykernel_launcher.py:57: ComplexWarning: Casting complex values to real discards the imaginary part\n",
      "/usr/local/lib/python3.6/site-packages/ipykernel_launcher.py:58: ComplexWarning: Casting complex values to real discards the imaginary part\n",
      "/usr/local/lib/python3.6/site-packages/ipykernel_launcher.py:43: ComplexWarning: Casting complex values to real discards the imaginary part\n",
      "/usr/local/lib/python3.6/site-packages/ipykernel_launcher.py:44: ComplexWarning: Casting complex values to real discards the imaginary part\n",
      "/usr/local/lib/python3.6/site-packages/ipykernel_launcher.py:45: ComplexWarning: Casting complex values to real discards the imaginary part\n",
      "/usr/local/lib/python3.6/site-packages/ipykernel_launcher.py:46: ComplexWarning: Casting complex values to real discards the imaginary part\n"
     ]
    },
    {
     "data": {
      "text/plain": [
       "[[0], [0], [0], [0], [0], [0], [0], [1], [0], [0]]"
      ]
     },
     "execution_count": 109,
     "metadata": {},
     "output_type": "execute_result"
    }
   ],
   "source": [
    "inverse = Inverse(F, Program(), QVMConnection(), np.arctan(0.987/0.159), np.arctan(0.987/0.159), np.arctan( 0.354/0.935))\n",
    "inverse.main()"
   ]
  },
  {
   "cell_type": "code",
   "execution_count": null,
   "metadata": {
    "collapsed": false,
    "deletable": true,
    "editable": true
   },
   "outputs": [],
   "source": [
    "H(1)"
   ]
  },
  {
   "cell_type": "code",
   "execution_count": 98,
   "metadata": {
    "collapsed": false,
    "deletable": true,
    "editable": true
   },
   "outputs": [
    {
     "data": {
      "text/plain": [
       "1.2088648147915153"
      ]
     },
     "execution_count": 98,
     "metadata": {},
     "output_type": "execute_result"
    }
   ],
   "source": [
    "np.arctan(0.935/0.354)"
   ]
  },
  {
   "cell_type": "code",
   "execution_count": null,
   "metadata": {
    "collapsed": true,
    "deletable": true,
    "editable": true
   },
   "outputs": [],
   "source": []
  }
 ],
 "metadata": {
  "kernelspec": {
   "display_name": "Python 3",
   "language": "python",
   "name": "python3"
  },
  "language_info": {
   "codemirror_mode": {
    "name": "ipython",
    "version": 3
   },
   "file_extension": ".py",
   "mimetype": "text/x-python",
   "name": "python",
   "nbconvert_exporter": "python",
   "pygments_lexer": "ipython3",
   "version": "3.6.2"
  }
 },
 "nbformat": 4,
 "nbformat_minor": 2
}

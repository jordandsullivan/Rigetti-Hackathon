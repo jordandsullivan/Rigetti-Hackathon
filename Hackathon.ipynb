{
 "cells": [
  {
   "cell_type": "code",
   "execution_count": 1,
   "metadata": {
    "collapsed": true
   },
   "outputs": [],
   "source": [
    "import sys\n",
    "sys.path.append(\"/Users/Daniel/Rigetti/pyquil\") # CHANGE THIS TO YOUR ABSOLUTE PATH TO THE PYQUIL FOLDER"
   ]
  },
  {
   "cell_type": "code",
   "execution_count": 2,
   "metadata": {
    "collapsed": true
   },
   "outputs": [],
   "source": [
    "import pyquil"
   ]
  },
  {
   "cell_type": "code",
   "execution_count": 3,
   "metadata": {
    "collapsed": true
   },
   "outputs": [],
   "source": [
    "from pyquil.quil import Program \n",
    "from pyquil.gates import *\n",
    "from pyquil.api import QVMConnection\n",
    "from pyquil.paulis import ID, sX, sY, sZ"
   ]
  },
  {
   "cell_type": "code",
   "execution_count": 4,
   "metadata": {
    "collapsed": true
   },
   "outputs": [],
   "source": [
    "import numpy as np\n",
    "import scipy\n",
    "from scipy.linalg import expm, sinm, cosm, logm"
   ]
  },
  {
   "cell_type": "code",
   "execution_count": 5,
   "metadata": {},
   "outputs": [
    {
     "name": "stdout",
     "output_type": "stream",
     "text": [
      "[[0.5075 0.2425]\n",
      " [0.2425 0.4945]]\n"
     ]
    }
   ],
   "source": [
    "K = np.array([[0.5065, 0.2425], \n",
    "              [0.2425, 0.4935]])\n",
    "gamma = 1000\n",
    "F = K + 1/gamma*np.eye(2)\n",
    "print(F)"
   ]
  },
  {
   "cell_type": "code",
   "execution_count": 77,
   "metadata": {
    "collapsed": true
   },
   "outputs": [],
   "source": [
    "class Inverse():\n",
    "    def __init__(self, F, program, qvm, theta0, theta1, theta2):\n",
    "        self.F = F\n",
    "        self.program = program\n",
    "        self.qvm = qvm\n",
    "        self.first, self.second, self.y, self.anc = (0,1,2,3)\n",
    "        \n",
    "        self.theta0 = theta0\n",
    "        self.theta1 = theta1\n",
    "        self.theta2 = theta2\n",
    "\n",
    "#     def expmatrix(self, val,matrix):  \n",
    "#         return expm(val*1j*self.F)\n",
    "    \n",
    "    def controlMake(self, M):\n",
    "        \"\"\"Creates control gates from M.\n",
    "        param:\n",
    "            M: (matrix) to control\n",
    "        returns:\n",
    "            (matrix) controlled.\"\"\"\n",
    "        zero = np.zeros((2,2))\n",
    "        I = np.eye(2)\n",
    "        top = np.concatenate((I, zero), axis = 1)\n",
    "        bottom = np.concatenate((zero, M), axis = 1)\n",
    "        res = np.concatenate((top, bottom), axis = 0)\n",
    "        return res\n",
    "    \n",
    "    def CRY(self, angle):\n",
    "        \"\"\"Creates control RY gate.\n",
    "        param:\n",
    "            angle: (float) by how much to rotate\n",
    "        returns:\n",
    "            matrix.\"\"\"\n",
    "        Y = np.array([[0, -1j], [1j, 0]])\n",
    "        expY = expm(-angle/2. * 1j * Y)\n",
    "        return self.controlMake(expY)\n",
    "    \n",
    "    def CCRY(self, angle):\n",
    "        Y = np.array([[0, -1j], [1j, 0]])\n",
    "        expY = expm(-angle/2. * 1j * Y)\n",
    "        \n",
    "        ccry = np.eye(8, dtype='cfloat')\n",
    "        ccry[6][6] = expY[0][0]\n",
    "        ccry[6][7] = expY[0][1]\n",
    "        ccry[7][6] = expY[1][0]\n",
    "        ccry[7][7] = expY[1][1]\n",
    "\n",
    "        return ccry\n",
    "    \n",
    "    def NCCRY(self, angle):\n",
    "        Y = np.array([[0, -1j], [1j, 0]])\n",
    "        expY = expm(-angle/2. * 1j * Y)\n",
    "        \n",
    "        cncry = np.eye(8, dtype='cfloat')\n",
    "        cncry[2][2] = expY[0][0]\n",
    "        cncry[2][3] = expY[0][1]\n",
    "        cncry[3][2] = expY[1][0]\n",
    "        cncry[3][3] = expY[1][1]\n",
    "        \n",
    "        return cncry\n",
    "        \n",
    "    def HGate(self):\n",
    "        return self.controlMake(np.sqrt(0.5) * np.array([[1,1], [1,-1]]))\n",
    "    \n",
    "    \n",
    "    def main(self):\n",
    "        \n",
    "        # =============================================\n",
    "        # Inversion \n",
    "        # =============================================\n",
    "        # add hadamards\n",
    "        self.program += H(self.first)\n",
    "        self.program += H(self.second)\n",
    "        \n",
    "        # add the exponent gates\n",
    "        expF = expm(np.pi*1j*self.F)\n",
    "        expF = self.controlMake(expF)\n",
    "        self.program = self.program.defgate(\"expF\", expF)\n",
    "        self.program.inst((\"expF\", self.first, self.y))\n",
    "        \n",
    "        expFhalf = expm(np.pi/2.*1j*self.F)\n",
    "        expFhalf = self.controlMake(expFhalf)\n",
    "        self.program = self.program.defgate(\"expFhalf\", expFhalf)\n",
    "        self.program.inst((\"expFhalf\", self.second, self.y))\n",
    "        \n",
    "        self.program += SWAP(self.first, self.second)\n",
    "        self.program += H(self.second)\n",
    "        \n",
    "        #S inverse\n",
    "        self.program += CPHASE(-np.pi/2, self.second, self.first) # right order of qubits?\n",
    "        \n",
    "        self.program += H(self.first)\n",
    "        \n",
    "        CRYpi4 = self.CRY(np.pi/4.)\n",
    "        self.program = self.program.defgate(\"CRYpi4\", CRYpi4)\n",
    "        self.program.inst((\"CRYpi4\", self.second, self.anc))\n",
    "        \n",
    "        CRYpi8 = self.CRY(np.pi/8.)\n",
    "        self.program = self.program.defgate(\"CRYpi8\", CRYpi8)\n",
    "        self.program.inst((\"CRYpi8\", self.first, self.anc))  \n",
    "        \n",
    "        self.program += H(self.first)\n",
    "        \n",
    "        self.program += CPHASE(np.pi/2, self.second, self.first) # right order of qubits?\n",
    "        \n",
    "        self.program += H(self.second)\n",
    "        \n",
    "        self.program += SWAP(self.first, self.second)\n",
    "        \n",
    "        minusExpFhalf = expm(-np.pi/2.*1j*self.F)\n",
    "        minusExpFhalf = self.controlMake(minusExpFhalf)\n",
    "        self.program = self.program.defgate(\"minusExpFhalf\", minusExpFhalf)\n",
    "        self.program.inst((\"minusExpFhalf\", self.second, self.y))\n",
    "        \n",
    "        minusExpF = expm(-np.pi*1j*self.F)\n",
    "        minusExpF = self.controlMake(minusExpF)\n",
    "        self.program = self.program.defgate(\"minusExpF\", minusExpF)\n",
    "        self.program.inst((\"minusExpF\", self.second, self.y))\n",
    "        \n",
    "        self.program += H(self.first)\n",
    "        self.program += H(self.second)\n",
    "        \n",
    "        # =============================================\n",
    "        # Training Data Orcale \n",
    "        # =============================================\n",
    "        \n",
    "        theta1Gate = self.NCCRY(self.theta1)\n",
    "        self.program = self.program.defgate(\"theta1Gate\", theta1Gate)\n",
    "        self.program.inst((\"theta1Gate\", self.anc, self.y, self.second))\n",
    "        \n",
    "        theta2Gate = self.CCRY(self.theta2)\n",
    "        self.program = self.program.defgate(\"theta2Gate\", theta2Gate)\n",
    "        self.program.inst((\"theta2Gate\", self.anc, self.y, self.second))\n",
    "        \n",
    "        # =============================================\n",
    "        # U_x0\n",
    "        # =============================================\n",
    "        \n",
    "        theta0Gate = self.CRY(-self.theta0)\n",
    "        self.program = self.program.defgate(\"theta0Gate\", theta0Gate)\n",
    "        self.program.inst((\"theta0Gate\", self.anc, self.second))\n",
    "        \n",
    "        CH = self.HGate()\n",
    "        self.program = self.program.defgate(\"CH\", CH)\n",
    "        self.program.inst((\"CH\", self.anc, self.y))\n",
    "        \n",
    "        # =============================================\n",
    "        # MEASUREMENT\n",
    "        # =============================================\n",
    "        \n",
    "        self.program += SWAP(self.first, self.anc)\n",
    "        \n",
    "        self.program += MEASURE(self.anc, 0)\n",
    "        \n",
    "        return self.qvm.wavefunction(self.program)\n",
    "        \n",
    "\n",
    "        \n",
    "        \n",
    "        \n",
    "\n",
    "\n",
    "        \n"
   ]
  },
  {
   "cell_type": "code",
   "execution_count": 62,
   "metadata": {
    "collapsed": true
   },
   "outputs": [],
   "source": [
    "def classify(wavefunction):\n",
    "    print(np.real(wavefunction.amplitudes[9]))\n",
    "    if np.real(wavefunction.amplitudes[9]) > 0:\n",
    "        return 9\n",
    "    else:\n",
    "        return 6"
   ]
  },
  {
   "cell_type": "code",
   "execution_count": 63,
   "metadata": {},
   "outputs": [
    {
     "name": "stdout",
     "output_type": "stream",
     "text": [
      "-0.4753547997j|1000> + (0.125199337-0.0877551274j)|1001> + (0.6396312069+0j)|1010> + (0.3026399391+0.0720921489j)|1011> + (-0.0361663209-0.0108206482j)|1100> + (0.125199337-0.1210068459j)|1101> + (0.4519027209-0.0008659896j)|1110> + (0.0599080091+0.0720921489j)|1111>\n",
      "0.12519933702287936\n",
      "Classified as:  9\n"
     ]
    }
   ],
   "source": [
    "# 9-train\n",
    "inverse = Inverse(F, Program(), QVMConnection(), np.arctan(1/(0.354/0.935)), np.arctan(1/(0.987/0.159)), np.arctan(1/(0.354/0.935)))\n",
    "wavefunction = inverse.main()\n",
    "print(wavefunction)\n",
    "print(\"Classified as: \", classify(wavefunction))"
   ]
  },
  {
   "cell_type": "code",
   "execution_count": 64,
   "metadata": {},
   "outputs": [
    {
     "name": "stdout",
     "output_type": "stream",
     "text": [
      "-0.4753547997j|1000> + (-0.0432099514-0.1120622394j)|1001> + (0.6396312069+0j)|1010> + (0.3246516699+0.0184470816j)|1011> + (-0.0361663209-0.0108206482j)|1100> + (0.0783604159-0.1408428878j)|1101> + (0.4519027209-0.0008659896j)|1110> + (0.1145577967+0.0017932214j)|1111>\n",
      "-0.04320995140727065\n",
      "Classified as:  6\n"
     ]
    }
   ],
   "source": [
    "# 6-train\n",
    "inverse = Inverse(F, Program(), QVMConnection(), np.arctan(1/(0.987/0.159)), np.arctan(1/(0.987/0.159)), np.arctan(1/(0.354/0.935)))\n",
    "wavefunction = inverse.main()\n",
    "print(wavefunction)\n",
    "print(\"Classified as: \", classify(wavefunction))"
   ]
  },
  {
   "cell_type": "code",
   "execution_count": 65,
   "metadata": {},
   "outputs": [
    {
     "name": "stdout",
     "output_type": "stream",
     "text": [
      "-0.4753547997j|1000> + (0.1568582054-0.0795388313j)|1001> + (0.6396312069+0j)|1010> + (0.2875088+0.0810667295j)|1011> + (-0.0361663209-0.0108206482j)|1100> + (0.1308899502-0.1125997123j)|1101> + (0.4519027209-0.0008659896j)|1110> + (0.0461699521+0.084624107j)|1111>\n",
      "0.15685820539207548\n",
      "Classified as:  9\n"
     ]
    }
   ],
   "source": [
    "# 9-test1\n",
    "inverse = Inverse(F, Program(), QVMConnection(), np.arctan(1/(0.147/0.989)), np.arctan(1/(0.987/0.159)), np.arctan(1/(0.354/0.935)))\n",
    "wavefunction = inverse.main()\n",
    "print(wavefunction)\n",
    "print(\"Classified as: \", classify(wavefunction))"
   ]
  },
  {
   "cell_type": "code",
   "execution_count": 68,
   "metadata": {},
   "outputs": [
    {
     "name": "stdout",
     "output_type": "stream",
     "text": [
      "-0.4753547997j|1000> + (-0.0804651475-0.1134436957j)|1001> + (0.6396312069+0j)|1010> + (0.3174762459+0.0053636015j)|1011> + (-0.0361663209-0.0108206482j)|1100> + (0.0645863323-0.1401052599j)|1101> + (0.4519027209-0.0008659896j)|1110> + (0.1228513298-0.0145069239j)|1111>\n",
      "-0.08046514748359092\n",
      "Classified as:  6\n"
     ]
    }
   ],
   "source": [
    "# 6-test1\n",
    "inverse = Inverse(F, Program(), QVMConnection(), np.arctan(1/(0.997/-0.072)), np.arctan(1/(0.987/0.159)), np.arctan(1/(0.354/0.935)))\n",
    "wavefunction = inverse.main()\n",
    "print(wavefunction)\n",
    "print(\"Classified as: \", classify(wavefunction))"
   ]
  },
  {
   "cell_type": "code",
   "execution_count": 70,
   "metadata": {},
   "outputs": [
    {
     "name": "stdout",
     "output_type": "stream",
     "text": [
      "-0.4753547997j|1000> + (0.1277809595-0.0871358635j)|1001> + (0.6396312069+0j)|1010> + (0.3015590043+0.0728394235j)|1011> + (-0.0361663209-0.0108206482j)|1100> + (0.1257067064-0.1203863679j)|1101> + (0.4519027209-0.0008659896j)|1110> + (0.0588359373+0.0731235743j)|1111>\n",
      "0.1277809595169964\n",
      "Classified as:  9\n"
     ]
    }
   ],
   "source": [
    "# 9-test2\n",
    "inverse = Inverse(F, Program(), QVMConnection(), np.arctan(1/(0.338/0.941)), np.arctan(1/(0.987/0.159)), np.arctan(1/(0.354/0.935)))\n",
    "wavefunction = inverse.main()\n",
    "print(wavefunction)\n",
    "print(\"Classified as: \", classify(wavefunction))"
   ]
  },
  {
   "cell_type": "code",
   "execution_count": 74,
   "metadata": {},
   "outputs": [
    {
     "name": "stdout",
     "output_type": "stream",
     "text": [
      "-0.4753547997j|1000> + (-0.0649611026-0.1130496608j)|1001> + (0.6396312069+0j)|1010> + (0.3210075729+0.0108634483j)|1011> + (-0.0361663209-0.0108206482j)|1100> + (0.0704729939-0.140644249j)|1101> + (0.4519027209-0.0008659896j)|1110> + (0.1195717387-0.0076895969j)|1111>\n",
      "-0.06496110255767043\n",
      "Classified as:  6\n"
     ]
    }
   ],
   "source": [
    "# 6-test2\n",
    "inverse = Inverse(F, Program(), QVMConnection(), np.arctan(1/(0.999/0.025)), np.arctan(1/(0.987/0.159)), np.arctan(1/(0.354/0.935)))\n",
    "wavefunction = inverse.main()\n",
    "print(wavefunction)\n",
    "print(\"Classified as: \", classify(wavefunction))"
   ]
  },
  {
   "cell_type": "code",
   "execution_count": 85,
   "metadata": {
    "collapsed": true
   },
   "outputs": [],
   "source": [
    "# PROCESSING\n",
    "from matplotlib.pyplot import imshow\n",
    "from PIL import Image\n",
    "import numpy as np\n",
    "\n",
    "def downsize(img):\n",
    "    return img.resize((28, 28), Image.ANTIALIAS)\n",
    "\n",
    "def get_HR(img):\n",
    "    \"\"\"Dark pixels in left half / Dark pixels in right half.\"\"\"\n",
    "    left_total, right_total = 0, 0\n",
    "    width, height = img.size\n",
    "    \n",
    "    for x in range(width):\n",
    "        for y in range(height):\n",
    "            r, g, b, a = img.getpixel((x, y))\n",
    "            brightness = (r + g + b) / 3\n",
    "            if x < (width / 2):\n",
    "                left_total += 1 - (brightness / 255)\n",
    "            else:\n",
    "                right_total += 1 - (brightness / 255)\n",
    "    \n",
    "    return left_total / right_total\n",
    "\n",
    "def get_VR(img):\n",
    "    \"\"\"Dark pixels in top half / Dark pixels in bottom half.\"\"\"\n",
    "    top_total, bottom_total = 0, 0\n",
    "    width, height = img.size\n",
    "    \n",
    "    for x in range(width):\n",
    "        for y in range(height):\n",
    "            r, g, b, a = img.getpixel((x, y))\n",
    "            brightness = (r + g + b) / 3\n",
    "            if y < (height / 2):\n",
    "                bottom_total += 1 - (brightness / 255)\n",
    "            else:\n",
    "                top_total += 1 - (brightness / 255)\n",
    "    \n",
    "    return bottom_total / top_total\n",
    "\n",
    "def load_image(path):\n",
    "    return Image.open(path)\n",
    "\n",
    "def full_process(img):\n",
    "    \"\"\"Features HR, VR as an array.\"\"\"\n",
    "    img = downsize(img)\n",
    "    return [get_HR(img), get_VR(img) * 0.6]"
   ]
  },
  {
   "cell_type": "code",
   "execution_count": 86,
   "metadata": {},
   "outputs": [
    {
     "name": "stdout",
     "output_type": "stream",
     "text": [
      "-0.4753547997j|1000> + (0.0549996493-0.1015524026j)|1001> + (0.6396312069+0j)|1010> + (0.3228635087+0.0508463356j)|1011> + (-0.0361663209-0.0108206482j)|1100> + (0.1088051206-0.1339769048j)|1101> + (0.4519027209-0.0008659896j)|1110> + (0.0861701183+0.0434755525j)|1111>\n",
      "0.05499964934641784\n",
      "Classified as:  9\n"
     ]
    }
   ],
   "source": [
    "# 9-processed\n",
    "img_9 = load_image(\"9.png\")\n",
    "features_9 = full_process(img_9)\n",
    "inverse = Inverse(F, Program(), QVMConnection(), np.arctan(1/(features_9[0]/features_9[1])), np.arctan(1/(0.987/0.159)), np.arctan(1/(0.354/0.935)))\n",
    "wavefunction = inverse.main()\n",
    "print(wavefunction)\n",
    "print(\"Classified as: \", classify(wavefunction))"
   ]
  },
  {
   "cell_type": "code",
   "execution_count": 87,
   "metadata": {},
   "outputs": [
    {
     "name": "stdout",
     "output_type": "stream",
     "text": [
      "[1.3039439374185129, 0.46847939535720756]\n",
      "-0.4753547997j|1000> + (-0.0130058491-0.1098764418j)|1001> + (0.6396312069+0j)|1010> + (0.3272562522+0.0287299121j)|1011> + (-0.0361663209-0.0108206482j)|1100> + (0.0886173248-0.1400736943j)|1101> + (0.4519027209-0.0008659896j)|1110> + (0.1068214084+0.0148086073j)|1111>\n",
      "-0.013005849064087957\n",
      "Classified as:  6\n"
     ]
    }
   ],
   "source": [
    "# 6-processed\n",
    "img_6 = load_image(\"6.png\")\n",
    "features_6 = full_process(img_6)\n",
    "print(features_6)\n",
    "inverse = Inverse(F, Program(), QVMConnection(), np.arctan(1/(features_6[0]/features_6[1])), np.arctan(1/(0.987/0.159)), np.arctan(1/(0.354/0.935)))\n",
    "wavefunction = inverse.main()\n",
    "print(wavefunction)\n",
    "print(\"Classified as: \", classify(wavefunction))"
   ]
  },
  {
   "cell_type": "code",
   "execution_count": null,
   "metadata": {
    "collapsed": true
   },
   "outputs": [],
   "source": []
  }
 ],
 "metadata": {
  "kernelspec": {
   "display_name": "Python 3",
   "language": "python",
   "name": "python3"
  },
  "language_info": {
   "codemirror_mode": {
    "name": "ipython",
    "version": 3
   },
   "file_extension": ".py",
   "mimetype": "text/x-python",
   "name": "python",
   "nbconvert_exporter": "python",
   "pygments_lexer": "ipython3",
   "version": "3.6.1"
  }
 },
 "nbformat": 4,
 "nbformat_minor": 2
}

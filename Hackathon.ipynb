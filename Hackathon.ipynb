{
 "cells": [
  {
   "cell_type": "code",
   "execution_count": 1,
   "metadata": {
    "collapsed": true
   },
   "outputs": [],
   "source": [
    "import sys\n",
    "sys.path.append(\"/Users/Daniel/Rigetti/pyquil\") # CHANGE THIS TO YOUR ABSOLUTE PATH TO THE PYQUIL FOLDER"
   ]
  },
  {
   "cell_type": "code",
   "execution_count": 2,
   "metadata": {},
   "outputs": [],
   "source": [
    "import pyquil"
   ]
  },
  {
   "cell_type": "code",
   "execution_count": 13,
   "metadata": {},
   "outputs": [],
   "source": [
    "from pyquil.quil import Program \n",
    "from pyquil.gates import *\n",
    "from pyquil.api import QVMConnection\n",
    "from pyquil.paulis import ID, sX, sY, sZ"
   ]
  },
  {
   "cell_type": "code",
   "execution_count": 80,
   "metadata": {},
   "outputs": [],
   "source": [
    "import numpy as np\n",
    "import scipy\n",
    "from scipy.linalg import expm, sinm, cosm, logm"
   ]
  },
  {
   "cell_type": "code",
   "execution_count": 141,
   "metadata": {},
   "outputs": [
    {
     "name": "stdout",
     "output_type": "stream",
     "text": [
      "[[0.5075 0.2425]\n",
      " [0.2425 0.4945]]\n"
     ]
    }
   ],
   "source": [
    "K = np.array([[0.5065, 0.2425], \n",
    "              [0.2425, 0.4935]])\n",
    "gamma = 1000\n",
    "F = K + 1/gamma*np.eye(2)\n",
    "print(F)"
   ]
  },
  {
   "cell_type": "code",
   "execution_count": 109,
   "metadata": {},
   "outputs": [],
   "source": [
    "class Inverse():\n",
    "    def __init__(self, F, program, qvm, theta0, theta1, theta2):\n",
    "        self.F = F\n",
    "        self.program = program\n",
    "        self.qvm = qvm\n",
    "        self.first, self.second, self.y, self.anc = (0,1,2,3)\n",
    "        \n",
    "        self.theta0 = theta0\n",
    "        self.theta1 = theta1\n",
    "        self.theta2 = theta2\n",
    "\n",
    "#     def expmatrix(self, val,matrix):  \n",
    "#         return expm(val*1j*self.F)\n",
    "    \n",
    "    def controlMake(self, M):\n",
    "        \"\"\"Creates control gates from M.\n",
    "        param:\n",
    "            M: (matrix) to control\n",
    "        returns:\n",
    "            (matrix) controlled.\"\"\"\n",
    "        zero = np.zeros((2,2))\n",
    "        I = np.eye(2)\n",
    "        top = np.concatenate((I, zero), axis = 1)\n",
    "        bottom = np.concatenate((zero, M), axis = 1)\n",
    "        res = np.concatenate((top, bottom), axis = 0)\n",
    "        return res\n",
    "    \n",
    "    def CRY(self, angle):\n",
    "        \"\"\"Creates control RY gate.\n",
    "        param:\n",
    "            angle: (float) by how much to rotate\n",
    "        returns:\n",
    "            matrix.\"\"\"\n",
    "        Y = np.array([[0, -1j], [1j, 0]])\n",
    "        expY = expm(-angle/2. * 1j * Y)\n",
    "        return self.controlMake(expY)\n",
    "    \n",
    "    def CCRY(self, angle):\n",
    "        Y = np.array([[0, -1j], [1j, 0]])\n",
    "        expY = expm(-angle/2. * 1j * Y)\n",
    "        \n",
    "        ccry = np.eye(8, dtype='cfloat')\n",
    "        ccry[6][6] = expY[0][0]\n",
    "        ccry[6][7] = expY[0][1]\n",
    "        ccry[7][6] = expY[1][0]\n",
    "        ccry[7][7] = expY[1][1]\n",
    "\n",
    "        return ccry\n",
    "    \n",
    "    def NCCRY(self, angle):\n",
    "        Y = np.array([[0, -1j], [1j, 0]])\n",
    "        expY = expm(-angle/2. * 1j * Y)\n",
    "        \n",
    "        cncry = np.eye(8, dtype='cfloat')\n",
    "        cncry[2][2] = expY[0][0]\n",
    "        cncry[2][3] = expY[0][1]\n",
    "        cncry[3][2] = expY[1][0]\n",
    "        cncry[3][3] = expY[1][1]\n",
    "        \n",
    "        return cncry\n",
    "        \n",
    "    def HGate(self):\n",
    "        return self.controlMake(np.sqrt(0.5) * np.array([[1,1], [1,-1]]))\n",
    "    \n",
    "    \n",
    "    def main(self):\n",
    "        \n",
    "        # =============================================\n",
    "        # Inversion \n",
    "        # =============================================\n",
    "        # add hadamards\n",
    "        self.program += H(self.first)\n",
    "        self.program += H(self.second)\n",
    "        \n",
    "        # add the exponent gates\n",
    "        expF = expm(np.pi*1j*self.F)\n",
    "        expF = self.controlMake(expF)\n",
    "        self.program = self.program.defgate(\"expF\", expF)\n",
    "        self.program.inst((\"expF\", self.first, self.y))\n",
    "        \n",
    "        expFhalf = expm(np.pi/2.*1j*self.F)\n",
    "        expFhalf = self.controlMake(expFhalf)\n",
    "        self.program = self.program.defgate(\"expFhalf\", expFhalf)\n",
    "        self.program.inst((\"expFhalf\", self.second, self.y))\n",
    "        \n",
    "        self.program += SWAP(self.first, self.second)\n",
    "        self.program += H(self.second)\n",
    "        \n",
    "        #S inverse\n",
    "        self.program += CPHASE(-np.pi/2, self.second, self.first) # right order of qubits?\n",
    "        \n",
    "        self.program += H(self.first)\n",
    "        \n",
    "        CRYpi4 = self.CRY(np.pi/4.)\n",
    "        self.program = self.program.defgate(\"CRYpi4\", CRYpi4)\n",
    "        self.program.inst((\"CRYpi4\", self.second, self.anc))\n",
    "        \n",
    "        CRYpi8 = self.CRY(np.pi/8.)\n",
    "        self.program = self.program.defgate(\"CRYpi8\", CRYpi8)\n",
    "        self.program.inst((\"CRYpi8\", self.first, self.anc))  \n",
    "        \n",
    "        self.program += H(self.first)\n",
    "        \n",
    "        self.program += CPHASE(np.pi/2, self.second, self.first) # right order of qubits?\n",
    "        \n",
    "        self.program += H(self.second)\n",
    "        \n",
    "        self.program += SWAP(self.first, self.second)\n",
    "        \n",
    "        minusExpFhalf = expm(-np.pi/2.*1j*self.F)\n",
    "        minusExpFhalf = self.controlMake(minusExpFhalf)\n",
    "        self.program = self.program.defgate(\"minusExpFhalf\", minusExpFhalf)\n",
    "        self.program.inst((\"minusExpFhalf\", self.second, self.y))\n",
    "        \n",
    "        minusExpF = expm(-np.pi*1j*self.F)\n",
    "        minusExpF = self.controlMake(minusExpF)\n",
    "        self.program = self.program.defgate(\"minusExpF\", minusExpF)\n",
    "        self.program.inst((\"minusExpF\", self.second, self.y))\n",
    "        \n",
    "        self.program += H(self.first)\n",
    "        self.program += H(self.second)\n",
    "        \n",
    "        # =============================================\n",
    "        # Training Data Orcale \n",
    "        # =============================================\n",
    "        \n",
    "        theta1Gate = self.NCCRY(self.theta1)\n",
    "        self.program = self.program.defgate(\"theta1Gate\", theta1Gate)\n",
    "        self.program.inst((\"theta1Gate\", self.anc, self.y, self.second))\n",
    "        \n",
    "        theta2Gate = self.CCRY(self.theta2)\n",
    "        self.program = self.program.defgate(\"theta2Gate\", theta2Gate)\n",
    "        self.program.inst((\"theta2Gate\", self.anc, self.y, self.second))\n",
    "        \n",
    "        # =============================================\n",
    "        # U_x0\n",
    "        # =============================================\n",
    "        \n",
    "        theta0Gate = self.CRY(-self.theta0)\n",
    "        self.program = self.program.defgate(\"theta0Gate\", theta0Gate)\n",
    "        self.program.inst((\"theta0Gate\", self.anc, self.second))\n",
    "        \n",
    "        CH = self.HGate()\n",
    "        self.program = self.program.defgate(\"CH\", CH)\n",
    "        self.program.inst((\"CH\", self.anc, self.y))\n",
    "        \n",
    "        # =============================================\n",
    "        # MEASUREMENT\n",
    "        # =============================================\n",
    "        \n",
    "        self.program += SWAP(self.first, self.anc)\n",
    "        \n",
    "        self.program += MEASURE(3, 0)\n",
    "        \n",
    "        print(self.qvm.wavefunction(self.program))\n",
    "        results = self.qvm.run(self.program, classical_addresses=[0], trials=100)\n",
    "        # print(results)\n",
    "        \n",
    "        def qvm_expectation(prep_program, hamiltonian, cxn):\n",
    "            progs, coefs = hamiltonian.get_programs()\n",
    "            expect_coeffs = np.array(cxn.expectation(prep_program, operator_programs=progs))\n",
    "            return np.real_if_close(np.dot(coefs, expect_coeffs))\n",
    "        \n",
    "        hamiltonian = 0.5 * (sX(0) - 1j * sY(0))\n",
    "        print(qvm_expectation(self.program, hamiltonian, self.qvm))\n",
    "        \n",
    "\n",
    "        \n",
    "        \n",
    "        \n",
    "\n",
    "\n",
    "        \n"
   ]
  },
  {
   "cell_type": "code",
   "execution_count": 144,
   "metadata": {},
   "outputs": [
    {
     "name": "stdout",
     "output_type": "stream",
     "text": [
      "-0.4753547997j|1000> + (0.125199337-0.0877551274j)|1001> + (0.6396312069+0j)|1010> + (0.3026399391+0.0720921489j)|1011> + (-0.0361663209-0.0108206482j)|1100> + (0.125199337-0.1210068459j)|1101> + (0.4519027209-0.0008659896j)|1110> + (0.0599080091+0.0720921489j)|1111>\n",
      "(0.25908430487055556-0.14398812230225144j)\n"
     ]
    }
   ],
   "source": [
    "# 9-train\n",
    "inverse = Inverse(F, Program(), QVMConnection(), np.arctan(1/(0.354/0.935)), np.arctan(1/(0.987/0.159)), np.arctan(1/(0.354/0.935)))\n",
    "inverse.main()"
   ]
  },
  {
   "cell_type": "code",
   "execution_count": 145,
   "metadata": {},
   "outputs": [
    {
     "name": "stdout",
     "output_type": "stream",
     "text": [
      "-0.4753547997j|1000> + (-0.0432099514-0.1120622394j)|1001> + (0.6396312069+0j)|1010> + (0.3246516699+0.0184470816j)|1011> + (-0.0361663209-0.0108206482j)|1100> + (0.0783604159-0.1408428878j)|1101> + (0.4519027209-0.0008659896j)|1110> + (0.1145577967+0.0017932214j)|1111>\n",
      "(0.3113840933075097+0.0018894816636536825j)\n"
     ]
    }
   ],
   "source": [
    "# 6-train\n",
    "inverse = Inverse(F, Program(), QVMConnection(), np.arctan(1/(0.987/0.159)), np.arctan(1/(0.987/0.159)), np.arctan(1/(0.354/0.935)))\n",
    "inverse.main()"
   ]
  },
  {
   "cell_type": "code",
   "execution_count": 147,
   "metadata": {},
   "outputs": [
    {
     "name": "stdout",
     "output_type": "stream",
     "text": [
      "-0.4753547997j|1000> + (0.1568582054-0.0795388313j)|1001> + (0.6396312069+0j)|1010> + (0.2875088+0.0810667295j)|1011> + (-0.0361663209-0.0108206482j)|1100> + (0.1308899502-0.1125997123j)|1101> + (0.4519027209-0.0008659896j)|1110> + (0.0461699521+0.084624107j)|1111>\n",
      "(0.2389844033115992-0.1701865891302304j)\n"
     ]
    }
   ],
   "source": [
    "# 9-test1\n",
    "inverse = Inverse(F, Program(), QVMConnection(), np.arctan(1/(0.147/0.989)), np.arctan(1/(0.987/0.159)), np.arctan(1/(0.354/0.935)))\n",
    "inverse.main()"
   ]
  },
  {
   "cell_type": "code",
   "execution_count": 151,
   "metadata": {},
   "outputs": [
    {
     "name": "stdout",
     "output_type": "stream",
     "text": [
      "-0.4753547997j|1000> + (-0.0804651475-0.1134436957j)|1001> + (0.6396312069+0j)|1010> + (0.3174762459+0.0053636015j)|1011> + (-0.0361663209-0.0108206482j)|1100> + (0.0645863323-0.1401052599j)|1101> + (0.4519027209-0.0008659896j)|1110> + (0.1228513298-0.0145069239j)|1111>\n",
      "(0.019041107642804755+0.016141110782839353j)\n"
     ]
    }
   ],
   "source": [
    "# 6-test1\n",
    "inverse = Inverse(F, Program(), QVMConnection(), np.arctan(1/(0.997/-0.072)), np.arctan(1/(0.987/0.159)), np.arctan(1/(0.354/0.935)))\n",
    "inverse.main()"
   ]
  },
  {
   "cell_type": "code",
   "execution_count": 154,
   "metadata": {},
   "outputs": [
    {
     "name": "stdout",
     "output_type": "stream",
     "text": [
      "-0.4753547997j|1000> + (0.1277809595-0.0871358635j)|1001> + (0.6396312069+0j)|1010> + (0.3015590043+0.0728394235j)|1011> + (-0.0361663209-0.0108206482j)|1100> + (0.1257067064-0.1203863679j)|1101> + (0.4519027209-0.0008659896j)|1110> + (0.0588359373+0.0731235743j)|1111>\n",
      "(0.023799726147486166-0.009451989052407718j)\n"
     ]
    }
   ],
   "source": [
    "# 9-test2\n",
    "inverse = Inverse(F, Program(), QVMConnection(), np.arctan(1/(0.338/0.941)), np.arctan(1/(0.987/0.159)), np.arctan(1/(0.354/0.935)))\n",
    "inverse.main()"
   ]
  },
  {
   "cell_type": "code",
   "execution_count": 155,
   "metadata": {},
   "outputs": [
    {
     "name": "stdout",
     "output_type": "stream",
     "text": [
      "-0.4753547997j|1000> + (-0.0649611026-0.1130496608j)|1001> + (0.6396312069+0j)|1010> + (0.3210075729+0.0108634483j)|1011> + (-0.0361663209-0.0108206482j)|1100> + (0.0704729939-0.140644249j)|1101> + (0.4519027209-0.0008659896j)|1110> + (0.1195717387-0.0076895969j)|1111>\n",
      "(0.3120797263077506+0.02145322471858932j)\n"
     ]
    }
   ],
   "source": [
    "# 6-test2\n",
    "inverse = Inverse(F, Program(), QVMConnection(), np.arctan(1/(0.999/0.025)), np.arctan(1/(0.987/0.159)), np.arctan(1/(0.354/0.935)))\n",
    "inverse.main()"
   ]
  },
  {
   "cell_type": "code",
   "execution_count": 88,
   "metadata": {},
   "outputs": [
    {
     "data": {
      "text/plain": [
       "<Gate H 1>"
      ]
     },
     "execution_count": 88,
     "metadata": {},
     "output_type": "execute_result"
    }
   ],
   "source": [
    "H(1)"
   ]
  },
  {
   "cell_type": "code",
   "execution_count": 18,
   "metadata": {},
   "outputs": [
    {
     "data": {
      "text/plain": [
       "1.2088648147915153"
      ]
     },
     "execution_count": 18,
     "metadata": {},
     "output_type": "execute_result"
    }
   ],
   "source": [
    "np.arctan(0.935/0.354)"
   ]
  },
  {
   "cell_type": "code",
   "execution_count": 10,
   "metadata": {},
   "outputs": [
    {
     "data": {
      "text/plain": [
       "array([[1., 0., 0., 0.],\n",
       "       [0., 1., 0., 0.],\n",
       "       [0., 0., 0., 1.],\n",
       "       [0., 0., 1., 0.]])"
      ]
     },
     "execution_count": 10,
     "metadata": {},
     "output_type": "execute_result"
    }
   ],
   "source": [
    "inverse = Inverse(F, Program(), QVMConnection(), np.arctan(1/(0.354/0.935)), np.arctan(1/(0.987/0.159)), np.arctan(1/(0.987/0.159)))\n",
    "inverse.controlMake(np.array([[0, 1], [1, 0]]))"
   ]
  },
  {
   "cell_type": "code",
   "execution_count": null,
   "metadata": {
    "collapsed": true
   },
   "outputs": [],
   "source": []
  }
 ],
 "metadata": {
  "kernelspec": {
   "display_name": "Python 3",
   "language": "python",
   "name": "python3"
  },
  "language_info": {
   "codemirror_mode": {
    "name": "ipython",
    "version": 3
   },
   "file_extension": ".py",
   "mimetype": "text/x-python",
   "name": "python",
   "nbconvert_exporter": "python",
   "pygments_lexer": "ipython3",
   "version": "3.6.1"
  }
 },
 "nbformat": 4,
 "nbformat_minor": 2
}

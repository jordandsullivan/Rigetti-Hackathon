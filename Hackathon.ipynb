{
 "cells": [
  {
   "cell_type": "code",
   "execution_count": 108,
   "metadata": {
    "collapsed": true,
    "deletable": true,
    "editable": true
   },
   "outputs": [],
   "source": [
    "%matplotlib inline\n",
    "import sys\n",
    "sys.path.append(\"/Users/Daniel/Rigetti/pyquil\") # CHANGE THIS TO YOUR ABSOLUTE PATH TO THE PYQUIL FOLDER"
   ]
  },
  {
   "cell_type": "code",
   "execution_count": 109,
   "metadata": {
    "collapsed": true,
    "deletable": true,
    "editable": true
   },
   "outputs": [],
   "source": [
    "import pyquil"
   ]
  },
  {
   "cell_type": "code",
   "execution_count": 110,
   "metadata": {
    "collapsed": true,
    "deletable": true,
    "editable": true
   },
   "outputs": [],
   "source": [
    "from pyquil.quil import Program \n",
    "from pyquil.gates import *\n",
    "from pyquil.api import QVMConnection\n",
    "from pyquil.paulis import ID, sX, sY, sZ"
   ]
  },
  {
   "cell_type": "code",
   "execution_count": 111,
   "metadata": {
    "collapsed": true,
    "deletable": true,
    "editable": true
   },
   "outputs": [],
   "source": [
    "import numpy as np\n",
    "import scipy\n",
    "from scipy.linalg import expm, sinm, cosm, logm"
   ]
  },
  {
   "cell_type": "code",
   "execution_count": 112,
   "metadata": {
    "collapsed": false,
    "deletable": true,
    "editable": true
   },
   "outputs": [
    {
     "name": "stdout",
     "output_type": "stream",
     "text": [
      "[[ 0.5075  0.2425]\n",
      " [ 0.2425  0.4945]]\n"
     ]
    }
   ],
   "source": [
    "K = np.array([[0.5065, 0.2425], \n",
    "              [0.2425, 0.4935]])\n",
    "gamma = 1000\n",
    "F = K + 1/gamma*np.eye(2)\n",
    "print(F)"
   ]
  },
  {
   "cell_type": "code",
   "execution_count": 122,
   "metadata": {
    "collapsed": false,
    "deletable": true,
    "editable": true
   },
   "outputs": [],
   "source": [
    "class Inverse():\n",
    "    def __init__(self, F, program, qvm, theta0, theta1, theta2):\n",
    "        self.F = F\n",
    "        self.program = program\n",
    "        self.qvm = qvm\n",
    "        self.first, self.second, self.y, self.anc = (0,1,2,3)\n",
    "        \n",
    "        self.theta0 = theta0\n",
    "        self.theta1 = theta1\n",
    "        self.theta2 = theta2\n",
    "\n",
    "#     def expmatrix(self, val,matrix):  \n",
    "#         return expm(val*1j*self.F)\n",
    "    \n",
    "    def controlMake(self, M):\n",
    "        \"\"\"Creates control gates from M.\n",
    "        param:\n",
    "            M: (matrix) to control\n",
    "        returns:\n",
    "            (matrix) controlled.\"\"\"\n",
    "        zero = np.zeros((2,2))\n",
    "        I = np.eye(2)\n",
    "        top = np.concatenate((I, zero), axis = 1)\n",
    "        bottom = np.concatenate((zero, M), axis = 1)\n",
    "        res = np.concatenate((top, bottom), axis = 0)\n",
    "        return res\n",
    "    \n",
    "    def CRY(self, angle):\n",
    "        \"\"\"Creates control RY gate.\n",
    "        param:\n",
    "            angle: (float) by how much to rotate\n",
    "        returns:\n",
    "            matrix.\"\"\"\n",
    "        Y = np.array([[0, -1j], [1j, 0]])\n",
    "        expY = expm(-angle/2. * 1j * Y)\n",
    "        return self.controlMake(expY)\n",
    "    \n",
    "    def CCRY(self, angle):\n",
    "        Y = np.array([[0, -1j], [1j, 0]])\n",
    "        expY = expm(-angle/2. * 1j * Y)\n",
    "        \n",
    "        ccry = np.eye(8, dtype='cfloat')\n",
    "        ccry[6][6] = expY[0][0]\n",
    "        ccry[6][7] = expY[0][1]\n",
    "        ccry[7][6] = expY[1][0]\n",
    "        ccry[7][7] = expY[1][1]\n",
    "\n",
    "        return ccry\n",
    "    \n",
    "    def NCCRY(self, angle):\n",
    "        Y = np.array([[0, -1j], [1j, 0]])\n",
    "        expY = expm(-angle/2. * 1j * Y)\n",
    "        \n",
    "        cncry = np.eye(8, dtype='cfloat')\n",
    "        cncry[2][2] = expY[0][0]\n",
    "        cncry[2][3] = expY[0][1]\n",
    "        cncry[3][2] = expY[1][0]\n",
    "        cncry[3][3] = expY[1][1]\n",
    "        \n",
    "        return cncry\n",
    "        \n",
    "    def HGate(self):\n",
    "        return self.controlMake(np.sqrt(0.5) * np.array([[1,1], [1,-1]]))\n",
    "    \n",
    "    \n",
    "    def main(self):\n",
    "        print(self.F)\n",
    "        self.program += RY(-np.pi / 2 , self.y)\n",
    "        \n",
    "        print(\"self.y\", self.qvm.wavefunction(self.program))\n",
    "        \n",
    "        # =============================================\n",
    "        # Inversion \n",
    "        # =============================================\n",
    "        # add hadamards\n",
    "        self.program += H(self.first)\n",
    "        self.program += H(self.second)\n",
    "        \n",
    "\n",
    "        \n",
    "        # add the exponent gates\n",
    "        expF = expm(np.pi*1j*self.F)\n",
    "        expF = self.controlMake(expF)\n",
    "        self.program = self.program.defgate(\"expF\", expF)\n",
    "        self.program.inst((\"expF\", self.first, self.y))\n",
    "        \n",
    "        expFhalf = expm(np.pi/2.*1j*self.F)\n",
    "        expFhalf = self.controlMake(expFhalf)\n",
    "        self.program = self.program.defgate(\"expFhalf\", expFhalf)\n",
    "        self.program.inst((\"expFhalf\", self.second, self.y))\n",
    "        \n",
    "        self.program += SWAP(self.first, self.second)\n",
    "        self.program += H(self.second)\n",
    "        \n",
    "        #S inverse\n",
    "        self.program += CPHASE(-np.pi/2, self.second, self.first) # right order of qubits?\n",
    "        \n",
    "        self.program += H(self.first)\n",
    "        \n",
    "        self.program += SWAP(self.first, self.second)\n",
    "                \n",
    "        CRYpi4 = self.CRY(np.pi/4.)\n",
    "        self.program = self.program.defgate(\"CRYpi4\", CRYpi4)\n",
    "        self.program.inst((\"CRYpi4\", self.first, self.anc))    \n",
    "        \n",
    "        CRYpi2 = self.CRY(np.pi/2.)\n",
    "        self.program = self.program.defgate(\"CRYpi2\", CRYpi2)\n",
    "        self.program.inst((\"CRYpi2\", self.second, self.anc))\n",
    "        \n",
    "        \n",
    "                \n",
    "        self.program += SWAP(self.first, self.second)\n",
    "\n",
    "\n",
    "            \n",
    "        self.program += H(self.first)\n",
    "        \n",
    "        self.program += CPHASE(np.pi/2, self.second, self.first) # right order of qubits?\n",
    "        \n",
    "        self.program += H(self.second)\n",
    "        \n",
    "        self.program += SWAP(self.first, self.second)\n",
    "        \n",
    "        minusExpFhalf = expm(-np.pi/2.*1j*self.F)\n",
    "        minusExpFhalf = self.controlMake(minusExpFhalf)\n",
    "        self.program = self.program.defgate(\"minusExpFhalf\", minusExpFhalf)\n",
    "        self.program.inst((\"minusExpFhalf\", self.second, self.y))\n",
    "        \n",
    "        minusExpF = expm(-np.pi*1j*self.F)\n",
    "        minusExpF = self.controlMake(minusExpF)\n",
    "        self.program = self.program.defgate(\"minusExpF\", minusExpF)\n",
    "        self.program.inst((\"minusExpF\", self.first, self.y))\n",
    "        \n",
    "        self.program += H(self.first)\n",
    "        self.program += H(self.second)\n",
    "        \n",
    "        print(self.program)\n",
    "        \n",
    "#         self.program += MEASURE(self.first, 0)\n",
    "#         self.program += MEASURE(self.second, 1)\n",
    "#         self.program += MEASURE(self.y, 2)\n",
    "#         self.program += MEASURE(self.anc, 3)\n",
    "\n",
    "\n",
    "        \n",
    "        print(self.qvm.wavefunction(self.program))\n",
    "#         print(self.qvm.run(self.program, [0, 1, 2, 3], 10))\n",
    "        \n",
    "        print(\"inversion done\")\n",
    "\n",
    "\n",
    "        \n",
    "        # =============================================\n",
    "        # Training Data Orcale \n",
    "        # =============================================\n",
    "        \n",
    "        theta1Gate = self.NCCRY(self.theta1)\n",
    "        self.program = self.program.defgate(\"theta1Gate\", theta1Gate)\n",
    "        self.program.inst((\"theta1Gate\", self.anc, self.y, self.second))\n",
    "        \n",
    "        theta2Gate = self.CCRY(self.theta2)\n",
    "        self.program = self.program.defgate(\"theta2Gate\", theta2Gate)\n",
    "        self.program.inst((\"theta2Gate\", self.anc, self.y, self.second))\n",
    "        \n",
    "        # =============================================\n",
    "        # U_x0\n",
    "        # =============================================\n",
    "        \n",
    "        theta0Gate = self.CRY(-self.theta0)\n",
    "        self.program = self.program.defgate(\"theta0Gate\", theta0Gate)\n",
    "        self.program.inst((\"theta0Gate\", self.anc, self.second))\n",
    "        \n",
    "        CH = self.HGate()\n",
    "        self.program = self.program.defgate(\"CH\", CH)\n",
    "        self.program.inst((\"CH\", self.anc, self.y))\n",
    "        \n",
    "        # =============================================\n",
    "        # MEASUREMENT\n",
    "        # =============================================\n",
    "        \n",
    "        self.program += SWAP(self.first, self.anc)\n",
    "        \n",
    "#         print(self.qvm.wavefunction(self.program))\n",
    "\n",
    "\n",
    "        \n",
    "        self.program += MEASURE(self.anc, 0)\n",
    "        \n",
    "#         while True:\n",
    "#             wavefunction = self.qvm.wavefunction(self.program)\n",
    "#             if np.real(wavefunction.amplitudes[0]) == 0 and np.imag(wavefunction.amplitudes[0]) == 0:\n",
    "#                 return wavefunction\n",
    "        \n",
    "\n",
    "        \n",
    "        \n",
    "        \n",
    "\n",
    "\n",
    "        \n"
   ]
  },
  {
   "cell_type": "code",
   "execution_count": 123,
   "metadata": {
    "collapsed": true,
    "deletable": true,
    "editable": true
   },
   "outputs": [],
   "source": [
    "def classify(wavefunction):\n",
    "    print(np.real(wavefunction.amplitudes[9]))\n",
    "    if np.real(wavefunction.amplitudes[9]) > 0:\n",
    "        return 9\n",
    "    else:\n",
    "        return 6"
   ]
  },
  {
   "cell_type": "code",
   "execution_count": 124,
   "metadata": {
    "collapsed": false,
    "deletable": true,
    "editable": true
   },
   "outputs": [
    {
     "name": "stdout",
     "output_type": "stream",
     "text": [
      "[[ 0.5   0.25]\n",
      " [ 0.25  0.5 ]]\n",
      "self.y (0.7071067812+0j)|0> + (-0.7071067812+0j)|1>\n",
      "DEFGATE expF:\n",
      "    1.0, 0.0, 0.0, 0.0\n",
      "    0.0, 1.0, 0.0, 0.0\n",
      "    0.0, 0.0, 4.67797817633918e-17+0.70710678118654746i, -0.70710678118654757\n",
      "    0.0, 0.0, -0.70710678118654746+3.9936180837827239e-17i, 3.9936180837827239e-17+0.70710678118654746i\n",
      "\n",
      "DEFGATE expFhalf:\n",
      "    1.0, 0.0, 0.0, 0.0\n",
      "    0.0, 1.0, 0.0, 0.0\n",
      "    0.0, 0.0, 0.65328148243818829+0.65328148243818818i, -0.27059805007309845+0.27059805007309845i\n",
      "    0.0, 0.0, -0.27059805007309851+0.27059805007309851i, 0.65328148243818829+0.65328148243818818i\n",
      "\n",
      "DEFGATE CRYpi4:\n",
      "    1.0, 0.0, 0.0, 0.0\n",
      "    0.0, 1.0, 0.0, 0.0\n",
      "    0.0, 0.0, 0.92387953251128674, -0.38268343236508978\n",
      "    0.0, 0.0, 0.38268343236508978, 0.92387953251128663\n",
      "\n",
      "DEFGATE CRYpi2:\n",
      "    1.0, 0.0, 0.0, 0.0\n",
      "    0.0, 1.0, 0.0, 0.0\n",
      "    0.0, 0.0, 0.70710678118654757, -0.70710678118654757\n",
      "    0.0, 0.0, 0.70710678118654757, 0.70710678118654757\n",
      "\n",
      "DEFGATE minusExpFhalf:\n",
      "    1.0, 0.0, 0.0, 0.0\n",
      "    0.0, 1.0, 0.0, 0.0\n",
      "    0.0, 0.0, 0.65328148243818829-0.65328148243818818i, -0.27059805007309845-0.27059805007309845i\n",
      "    0.0, 0.0, -0.27059805007309851-0.27059805007309851i, 0.65328148243818829-0.65328148243818818i\n",
      "\n",
      "DEFGATE minusExpF:\n",
      "    1.0, 0.0, 0.0, 0.0\n",
      "    0.0, 1.0, 0.0, 0.0\n",
      "    0.0, 0.0, 4.67797817633918e-17-0.70710678118654746i, -0.70710678118654757\n",
      "    0.0, 0.0, -0.70710678118654746-3.9936180837827239e-17i, 3.9936180837827239e-17-0.70710678118654746i\n",
      "\n",
      "RY(-pi/2) 2\n",
      "H 0\n",
      "H 1\n",
      "expF 0 2\n",
      "expFhalf 1 2\n",
      "SWAP 0 1\n",
      "H 1\n",
      "CPHASE(-pi/2) 1 0\n",
      "H 0\n",
      "SWAP 0 1\n",
      "CRYpi4 0 3\n",
      "CRYpi2 1 3\n",
      "SWAP 0 1\n",
      "H 0\n",
      "CPHASE(pi/2) 1 0\n",
      "H 1\n",
      "SWAP 0 1\n",
      "minusExpFhalf 1 2\n",
      "minusExpF 0 2\n",
      "H 0\n",
      "H 1\n",
      "\n",
      "(0.6751980455+0j)|0000> + 0.0580043856j|0001> + 0.0079364086j|0010> + (-0.0765106728+0j)|0011> + (-0.6751980455+0j)|0100> + (-0-0.0580043856j)|0101> + -0.0079364086j|0110> + (0.0765106728+0j)|0111> + (0.0731694286+0j)|1000> + -0.1307038606j|1001> + (-0-0.0557718377j)|1010> + (0.0963247563+0j)|1011> + (-0.0731694286+0j)|1100> + 0.1307038606j|1101> + 0.0557718377j|1110> + (-0.0963247563+0j)|1111>\n",
      "inversion done\n"
     ]
    }
   ],
   "source": [
    "# 9-train\n",
    "F = np.array([[2/4, 1/4], [1/4,2/4]])\n",
    "inverse = Inverse(F, Program(), QVMConnection(), np.arctan(1/(0.354/0.935)), np.arctan(1/(0.987/0.159)), np.arctan(1/(0.354/0.935)))\n",
    "wavefunction = inverse.main()\n",
    "# print(wavefunction)\n",
    "# print(\"Classified as: \", classify(wavefunction))"
   ]
  },
  {
   "cell_type": "code",
   "execution_count": 103,
   "metadata": {
    "collapsed": false,
    "deletable": true,
    "editable": true
   },
   "outputs": [
    {
     "name": "stdout",
     "output_type": "stream",
     "text": [
      "[ 2.7121047  -2.75994372]\n"
     ]
    },
    {
     "data": {
      "text/plain": [
       "array([ 0.70710678, -0.70710678])"
      ]
     },
     "execution_count": 103,
     "metadata": {},
     "output_type": "execute_result"
    }
   ],
   "source": [
    "x = np.linalg.inv(F).dot(np.array([1/np.sqrt(2), -1/np.sqrt(2)]))\n",
    "print(x)\n",
    "F.dot(x)"
   ]
  },
  {
   "cell_type": "code",
   "execution_count": 127,
   "metadata": {
    "collapsed": false,
    "deletable": true,
    "editable": true
   },
   "outputs": [
    {
     "name": "stdout",
     "output_type": "stream",
     "text": [
      "-0.4753547997j|1000> + (-0.0432099514-0.1120622394j)|1001> + (0.6396312069+0j)|1010> + (0.3246516699+0.0184470816j)|1011> + (-0.0361663209-0.0108206482j)|1100> + (0.0783604159-0.1408428878j)|1101> + (0.4519027209-0.0008659896j)|1110> + (0.1145577967+0.0017932214j)|1111>\n",
      "-0.04320995140727065\n",
      "Classified as:  6\n"
     ]
    }
   ],
   "source": [
    "# 6-train\n",
    "inverse = Inverse(F, Program(), QVMConnection(), np.arctan(1/(0.987/0.159)), np.arctan(1/(0.987/0.159)), np.arctan(1/(0.354/0.935)))\n",
    "wavefunction = inverse.main()\n",
    "print(wavefunction)\n",
    "print(\"Classified as: \", classify(wavefunction))"
   ]
  },
  {
   "cell_type": "code",
   "execution_count": 128,
   "metadata": {
    "collapsed": false,
    "deletable": true,
    "editable": true
   },
   "outputs": [
    {
     "name": "stdout",
     "output_type": "stream",
     "text": [
      "-0.4753547997j|1000> + (0.1568582054-0.0795388313j)|1001> + (0.6396312069+0j)|1010> + (0.2875088+0.0810667295j)|1011> + (-0.0361663209-0.0108206482j)|1100> + (0.1308899502-0.1125997123j)|1101> + (0.4519027209-0.0008659896j)|1110> + (0.0461699521+0.084624107j)|1111>\n",
      "0.15685820539207548\n",
      "Classified as:  9\n"
     ]
    }
   ],
   "source": [
    "# 9-test1\n",
    "inverse = Inverse(F, Program(), QVMConnection(), np.arctan(1/(0.147/0.989)), np.arctan(1/(0.987/0.159)), np.arctan(1/(0.354/0.935)))\n",
    "wavefunction = inverse.main()\n",
    "print(wavefunction)\n",
    "print(\"Classified as: \", classify(wavefunction))"
   ]
  },
  {
   "cell_type": "code",
   "execution_count": 129,
   "metadata": {
    "collapsed": false,
    "deletable": true,
    "editable": true
   },
   "outputs": [
    {
     "name": "stdout",
     "output_type": "stream",
     "text": [
      "-0.4753547997j|1000> + (-0.0804651475-0.1134436957j)|1001> + (0.6396312069+0j)|1010> + (0.3174762459+0.0053636015j)|1011> + (-0.0361663209-0.0108206482j)|1100> + (0.0645863323-0.1401052599j)|1101> + (0.4519027209-0.0008659896j)|1110> + (0.1228513298-0.0145069239j)|1111>\n",
      "-0.08046514748359092\n",
      "Classified as:  6\n"
     ]
    }
   ],
   "source": [
    "# 6-test1\n",
    "inverse = Inverse(F, Program(), QVMConnection(), np.arctan(1/(0.997/-0.072)), np.arctan(1/(0.987/0.159)), np.arctan(1/(0.354/0.935)))\n",
    "wavefunction = inverse.main()\n",
    "print(wavefunction)\n",
    "print(\"Classified as: \", classify(wavefunction))"
   ]
  },
  {
   "cell_type": "code",
   "execution_count": 130,
   "metadata": {
    "collapsed": false,
    "deletable": true,
    "editable": true
   },
   "outputs": [
    {
     "name": "stdout",
     "output_type": "stream",
     "text": [
      "-0.4753547997j|1000> + (0.1277809595-0.0871358635j)|1001> + (0.6396312069+0j)|1010> + (0.3015590043+0.0728394235j)|1011> + (-0.0361663209-0.0108206482j)|1100> + (0.1257067064-0.1203863679j)|1101> + (0.4519027209-0.0008659896j)|1110> + (0.0588359373+0.0731235743j)|1111>\n",
      "0.1277809595169964\n",
      "Classified as:  9\n"
     ]
    }
   ],
   "source": [
    "# 9-test2\n",
    "inverse = Inverse(F, Program(), QVMConnection(), np.arctan(1/(0.338/0.941)), np.arctan(1/(0.987/0.159)), np.arctan(1/(0.354/0.935)))\n",
    "wavefunction = inverse.main()\n",
    "print(wavefunction)\n",
    "print(\"Classified as: \", classify(wavefunction))"
   ]
  },
  {
   "cell_type": "code",
   "execution_count": 131,
   "metadata": {
    "collapsed": false,
    "deletable": true,
    "editable": true
   },
   "outputs": [
    {
     "name": "stdout",
     "output_type": "stream",
     "text": [
      "-0.4753547997j|1000> + (-0.0649611026-0.1130496608j)|1001> + (0.6396312069+0j)|1010> + (0.3210075729+0.0108634483j)|1011> + (-0.0361663209-0.0108206482j)|1100> + (0.0704729939-0.140644249j)|1101> + (0.4519027209-0.0008659896j)|1110> + (0.1195717387-0.0076895969j)|1111>\n",
      "-0.06496110255767043\n",
      "Classified as:  6\n"
     ]
    }
   ],
   "source": [
    "# 6-test2\n",
    "inverse = Inverse(F, Program(), QVMConnection(), np.arctan(1/(0.999/0.025)), np.arctan(1/(0.987/0.159)), np.arctan(1/(0.354/0.935)))\n",
    "wavefunction = inverse.main()\n",
    "print(wavefunction)\n",
    "print(\"Classified as: \", classify(wavefunction))"
   ]
  },
  {
   "cell_type": "code",
   "execution_count": 62,
   "metadata": {
    "collapsed": true,
    "deletable": true,
    "editable": true
   },
   "outputs": [],
   "source": [
    "# PROCESSING\n",
    "from matplotlib.pyplot import imshow\n",
    "from PIL import Image\n",
    "import numpy as np\n",
    "\n",
    "def downsize(img):\n",
    "    return img.resize((28, 28), Image.ANTIALIAS)\n",
    "\n",
    "def get_HR(img):\n",
    "    \"\"\"Dark pixels in left half / Dark pixels in right half.\"\"\"\n",
    "    left_total, right_total = 0, 0\n",
    "    width, height = img.size\n",
    "    \n",
    "    for x in range(width):\n",
    "        for y in range(height):\n",
    "            r, g, b, a = img.getpixel((x, y))\n",
    "            brightness = (r + g + b) / 3\n",
    "            if x < (width / 2):\n",
    "                left_total += 1 - (brightness / 255)\n",
    "            else:\n",
    "                right_total += 1 - (brightness / 255)\n",
    "    \n",
    "    return left_total / right_total\n",
    "\n",
    "def get_VR(img):\n",
    "    \"\"\"Dark pixels in top half / Dark pixels in bottom half.\"\"\"\n",
    "    top_total, bottom_total = 0, 0\n",
    "    width, height = img.size\n",
    "    \n",
    "    for x in range(width):\n",
    "        for y in range(height):\n",
    "            r, g, b, a = img.getpixel((x, y))\n",
    "            brightness = (r + g + b) / 3\n",
    "            if y < (height / 2):\n",
    "                bottom_total += 1 - (brightness / 255)\n",
    "            else:\n",
    "                top_total += 1 - (brightness / 255)\n",
    "    \n",
    "    return bottom_total / top_total\n",
    "\n",
    "def load_image(path):\n",
    "    return Image.open(path)\n",
    "\n",
    "def full_process(img):\n",
    "    \"\"\"Features HR, VR as an array.\"\"\"\n",
    "    img = downsize(img)\n",
    "    return [get_HR(img) * 1.4, get_VR(img) * 0.6]"
   ]
  },
  {
   "cell_type": "code",
   "execution_count": 132,
   "metadata": {
    "collapsed": false,
    "deletable": true,
    "editable": true
   },
   "outputs": [
    {
     "name": "stdout",
     "output_type": "stream",
     "text": [
      "-0.4753547997j|1000> + (0.0284177714-0.105369661j)|1001> + (0.6396312069+0j)|1010> + (0.3262793848+0.0423730439j)|1011> + (-0.0361663209-0.0108206482j)|1100> + (0.1013954549-0.1370829594j)|1101> + (0.4519027209-0.0008659896j)|1110> + (0.0947776624+0.0323758697j)|1111>\n",
      "0.028417771366276864\n",
      "Classified as:  9\n"
     ]
    }
   ],
   "source": [
    "# 9-processed\n",
    "img_9 = load_image(\"9.png\")\n",
    "features_9 = full_process(img_9)\n",
    "inverse = Inverse(F, Program(), QVMConnection(), np.arctan(1/(features_9[0]/features_9[1])), np.arctan(1/(0.987/0.159)), np.arctan(1/(0.354/0.935)))\n",
    "wavefunction = inverse.main()\n",
    "print(wavefunction)\n",
    "print(\"Classified as: \", classify(wavefunction))"
   ]
  },
  {
   "cell_type": "code",
   "execution_count": 133,
   "metadata": {
    "collapsed": false,
    "deletable": true,
    "editable": true
   },
   "outputs": [
    {
     "name": "stdout",
     "output_type": "stream",
     "text": [
      "[1.8255215123859179, 0.46847939535720756]\n",
      "-0.4753547997j|1000> + (-0.0283195988-0.1111015035j)|1001> + (0.6396312069+0j)|1010> + (0.3262879204+0.0235519898j)|1011> + (-0.0361663209-0.0108206482j)|1100> + (0.0835167676-0.1406135687j)|1101> + (0.4519027209-0.0008659896j)|1110> + (0.1108548289+0.0082315852j)|1111>\n",
      "-0.02831959876324158\n",
      "Classified as:  6\n"
     ]
    }
   ],
   "source": [
    "# 6-processed\n",
    "img_6 = load_image(\"6.png\")\n",
    "features_6 = full_process(img_6)\n",
    "print(features_6)\n",
    "inverse = Inverse(F, Program(), QVMConnection(), np.arctan(1/(features_6[0]/features_6[1])), np.arctan(1/(0.987/0.159)), np.arctan(1/(0.354/0.935)))\n",
    "wavefunction = inverse.main()\n",
    "print(wavefunction)\n",
    "print(\"Classified as: \", classify(wavefunction))"
   ]
  },
  {
   "cell_type": "code",
   "execution_count": 110,
   "metadata": {
    "collapsed": false,
    "deletable": true,
    "editable": true
   },
   "outputs": [
    {
     "name": "stdout",
     "output_type": "stream",
     "text": [
      "-0.4753547997j|1000> + (-0.0283195988-0.1111015035j)|1001> + (0.6396312069+0j)|1010> + (0.3262879204+0.0235519898j)|1011> + (-0.0361663209-0.0108206482j)|1100> + (0.0835167676-0.1406135687j)|1101> + (0.4519027209-0.0008659896j)|1110> + (0.1108548289+0.0082315852j)|1111>\n",
      "-0.02831959876324158\n",
      "Classified as:  6\n"
     ]
    }
   ],
   "source": [
    "img_6 = load_image(\"6.png\")\n",
    "features_6 = full_process(img_6)\n",
    "while True:\n",
    "    inverse = Inverse(F, Program(), QVMConnection(), np.arctan(1/(features_6[0]/features_6[1])), np.arctan(1/(0.987/0.159)), np.arctan(1/(0.354/0.935)))\n",
    "    wavefunction = inverse.main()\n",
    "    if np.real(wavefunction.amplitudes[0]) == 0 and np.imag(wavefunction.amplitudes[0]) == 0:\n",
    "        print(wavefunction)\n",
    "        print(\"Classified as: \", classify(wavefunction))\n",
    "        break"
   ]
  },
  {
   "cell_type": "code",
   "execution_count": 64,
   "metadata": {
    "collapsed": true,
    "deletable": true,
    "editable": true
   },
   "outputs": [],
   "source": [
    "def main2():    \n",
    "    path_6 = \"6.png\"\n",
    "    img_6 = load_image(path_6)\n",
    "    path_9 = \"9.png\"\n",
    "    img_9 = load_image(path_9)\n",
    "    img_list_6 = [img_6]\n",
    "    img_list_9 = [img_9]\n",
    "    n_correct = 0\n",
    "    n_rep = 5\n",
    "    \n",
    "\n",
    "    # first index is correct class\n",
    "    # all examples from paper\n",
    "    query_list = [[6, [0.997,-0.072]], [9, [0.147,0.989]], [6, [0.999,-0.030]], [6, [0.987,-0.161]],\n",
    "                 [9, [0.338,0.941]], [6, [0.999,0.025]], [9, [0.439,0.899]], [9, [0.173,0.985]]]\n",
    "    # add 6s from images\n",
    "    for el in img_list_6:\n",
    "        query_list.append([6, full_process(el)])\n",
    "    # add 9s from images\n",
    "    for el in img_list_9:\n",
    "        query_list.append([9, full_process(el)])\n",
    "        \n",
    "    i_c = 0\n",
    "    for j in range(n_rep):\n",
    "        for i, el in enumerate(query_list):\n",
    "            print(\"{}: Features {}\".format(el[0], el[1]))\n",
    "            result = query(el[1])\n",
    "            if(result  == el[0]):\n",
    "                n_correct += 1\n",
    "            i_c += 1\n",
    "            print(\"[\" + str(i) + \"]\" + \" Classified as\", str(result), \". Correct: \" + str(result  == el[0]))\n",
    "            print(\"So far \" + str(n_correct) + \"/\" + str(i_c))\n",
    "\n",
    "    print(\"Classified correctly \", str(n_correct), \"out of \", str(i_c))"
   ]
  },
  {
   "cell_type": "code",
   "execution_count": 20,
   "metadata": {
    "collapsed": true,
    "deletable": true,
    "editable": true
   },
   "outputs": [],
   "source": [
    "def query(q):\n",
    "\n",
    "    train6 = [0.987, 0.159]\n",
    "    train9 = [0.354, 0.935]\n",
    "    theta1 = calc_theta(train6)\n",
    "    theta2 = calc_theta(train9)\n",
    "\n",
    "   \n",
    "    theta0 = calc_theta(q)\n",
    "\n",
    "    inverse = Inverse(F, Program(), QVMConnection(), theta0, theta1, theta2)\n",
    "    amplitudes = inverse.main().amplitudes\n",
    "\n",
    "    \n",
    "\n",
    "    if(np.real(amplitudes[9]) > 0):\n",
    "        return 9\n",
    "    else:\n",
    "        return 6\n",
    "\n"
   ]
  },
  {
   "cell_type": "code",
   "execution_count": 10,
   "metadata": {
    "collapsed": true,
    "deletable": true,
    "editable": true
   },
   "outputs": [],
   "source": [
    "def calc_theta(x_i):\n",
    "    # ArcCot[z] is equal to ArcTan[1/z] for complex z, so also R\n",
    "    theta = np.arctan(1/(x_i[0]/x_i[1]))\n",
    "    return theta"
   ]
  },
  {
   "cell_type": "code",
   "execution_count": 153,
   "metadata": {
    "collapsed": false,
    "deletable": true,
    "editable": true
   },
   "outputs": [
    {
     "data": {
      "text/plain": [
       "<matplotlib.image.AxesImage at 0x11d952320>"
      ]
     },
     "execution_count": 153,
     "metadata": {},
     "output_type": "execute_result"
    },
    {
     "data": {
      "image/png": "[encoded data removed]",
      "text/plain": [
       "<matplotlib.figure.Figure at 0x11d78bf98>"
      ]
     },
     "metadata": {},
     "output_type": "display_data"
    }
   ],
   "source": [
    "imshow(load_image(\"6.png\"))"
   ]
  },
  {
   "cell_type": "code",
   "execution_count": 154,
   "metadata": {
    "collapsed": false,
    "deletable": true,
    "editable": true
   },
   "outputs": [
    {
     "data": {
      "text/plain": [
       "<matplotlib.image.AxesImage at 0x11d9a21d0>"
      ]
     },
     "execution_count": 154,
     "metadata": {},
     "output_type": "execute_result"
    },
    {
     "data": {
      "image/png": "[encoded data removed]",
      "text/plain": [
       "<matplotlib.figure.Figure at 0x11d929f98>"
      ]
     },
     "metadata": {},
     "output_type": "display_data"
    }
   ],
   "source": [
    "imshow(load_image(\"9.png\"))"
   ]
  },
  {
   "cell_type": "code",
   "execution_count": 65,
   "metadata": {
    "collapsed": false,
    "deletable": true,
    "editable": true
   },
   "outputs": [
    {
     "name": "stdout",
     "output_type": "stream",
     "text": [
      "6: Features [0.997, -0.072]\n",
      "[0.997, -0.072]\n",
      "[0] Classified as 6 . Correct: True\n",
      "So far 1/1\n",
      "9: Features [0.147, 0.989]\n",
      "[0.147, 0.989]\n",
      "[1] Classified as 9 . Correct: True\n",
      "So far 2/2\n",
      "6: Features [0.999, -0.03]\n",
      "[0.999, -0.03]\n",
      "[2] Classified as 6 . Correct: True\n",
      "So far 3/3\n",
      "6: Features [0.987, -0.161]\n",
      "[0.987, -0.161]\n",
      "[3] Classified as 6 . Correct: True\n",
      "So far 4/4\n",
      "9: Features [0.338, 0.941]\n",
      "[0.338, 0.941]\n",
      "[4] Classified as 9 . Correct: True\n",
      "So far 5/5\n",
      "6: Features [0.999, 0.025]\n",
      "[0.999, 0.025]\n",
      "[5] Classified as 6 . Correct: True\n",
      "So far 6/6\n",
      "9: Features [0.439, 0.899]\n",
      "[0.439, 0.899]\n",
      "[6] Classified as 9 . Correct: True\n",
      "So far 7/7\n",
      "9: Features [0.173, 0.985]\n",
      "[0.173, 0.985]\n",
      "[7] Classified as 9 . Correct: True\n",
      "So far 8/8\n",
      "6: Features [1.8255215123859179, 0.46847939535720756]\n",
      "[1.8255215123859179, 0.46847939535720756]\n",
      "[8] Classified as 6 . Correct: True\n",
      "So far 9/9\n",
      "9: Features [1.1083632490433544, 0.7552068828327032]\n",
      "[1.1083632490433544, 0.7552068828327032]\n",
      "[9] Classified as 9 . Correct: True\n",
      "So far 10/10\n",
      "6: Features [0.997, -0.072]\n",
      "[0.997, -0.072]\n",
      "[0] Classified as 6 . Correct: True\n",
      "So far 11/11\n",
      "9: Features [0.147, 0.989]\n",
      "[0.147, 0.989]\n",
      "[1] Classified as 9 . Correct: True\n",
      "So far 12/12\n",
      "6: Features [0.999, -0.03]\n",
      "[0.999, -0.03]\n",
      "[2] Classified as 6 . Correct: True\n",
      "So far 13/13\n",
      "6: Features [0.987, -0.161]\n",
      "[0.987, -0.161]\n",
      "[3] Classified as 6 . Correct: True\n",
      "So far 14/14\n",
      "9: Features [0.338, 0.941]\n",
      "[0.338, 0.941]\n",
      "[4] Classified as 9 . Correct: True\n",
      "So far 15/15\n",
      "6: Features [0.999, 0.025]\n",
      "[0.999, 0.025]\n",
      "[5] Classified as 6 . Correct: True\n",
      "So far 16/16\n",
      "9: Features [0.439, 0.899]\n",
      "[0.439, 0.899]\n",
      "[6] Classified as 9 . Correct: True\n",
      "So far 17/17\n",
      "9: Features [0.173, 0.985]\n",
      "[0.173, 0.985]\n",
      "[7] Classified as 9 . Correct: True\n",
      "So far 18/18\n",
      "6: Features [1.8255215123859179, 0.46847939535720756]\n",
      "[1.8255215123859179, 0.46847939535720756]\n",
      "[8] Classified as 6 . Correct: True\n",
      "So far 19/19\n",
      "9: Features [1.1083632490433544, 0.7552068828327032]\n",
      "[1.1083632490433544, 0.7552068828327032]\n",
      "[9] Classified as 9 . Correct: True\n",
      "So far 20/20\n",
      "6: Features [0.997, -0.072]\n",
      "[0.997, -0.072]\n",
      "[0] Classified as 6 . Correct: True\n",
      "So far 21/21\n",
      "9: Features [0.147, 0.989]\n",
      "[0.147, 0.989]\n",
      "[1] Classified as 9 . Correct: True\n",
      "So far 22/22\n",
      "6: Features [0.999, -0.03]\n",
      "[0.999, -0.03]\n",
      "[2] Classified as 6 . Correct: True\n",
      "So far 23/23\n",
      "6: Features [0.987, -0.161]\n",
      "[0.987, -0.161]\n",
      "[3] Classified as 6 . Correct: True\n",
      "So far 24/24\n",
      "9: Features [0.338, 0.941]\n",
      "[0.338, 0.941]\n",
      "[4] Classified as 9 . Correct: True\n",
      "So far 25/25\n",
      "6: Features [0.999, 0.025]\n",
      "[0.999, 0.025]\n",
      "[5] Classified as 6 . Correct: True\n",
      "So far 26/26\n",
      "9: Features [0.439, 0.899]\n",
      "[0.439, 0.899]\n",
      "[6] Classified as 9 . Correct: True\n",
      "So far 27/27\n",
      "9: Features [0.173, 0.985]\n",
      "[0.173, 0.985]\n",
      "[7] Classified as 9 . Correct: True\n",
      "So far 28/28\n",
      "6: Features [1.8255215123859179, 0.46847939535720756]\n",
      "[1.8255215123859179, 0.46847939535720756]\n",
      "[8] Classified as 6 . Correct: True\n",
      "So far 29/29\n",
      "9: Features [1.1083632490433544, 0.7552068828327032]\n",
      "[1.1083632490433544, 0.7552068828327032]\n",
      "[9] Classified as 9 . Correct: True\n",
      "So far 30/30\n",
      "6: Features [0.997, -0.072]\n",
      "[0.997, -0.072]\n",
      "[0] Classified as 6 . Correct: True\n",
      "So far 31/31\n",
      "9: Features [0.147, 0.989]\n",
      "[0.147, 0.989]\n",
      "[1] Classified as 9 . Correct: True\n",
      "So far 32/32\n",
      "6: Features [0.999, -0.03]\n",
      "[0.999, -0.03]\n",
      "[2] Classified as 6 . Correct: True\n",
      "So far 33/33\n",
      "6: Features [0.987, -0.161]\n",
      "[0.987, -0.161]\n",
      "[3] Classified as 6 . Correct: True\n",
      "So far 34/34\n",
      "9: Features [0.338, 0.941]\n",
      "[0.338, 0.941]\n",
      "[4] Classified as 9 . Correct: True\n",
      "So far 35/35\n",
      "6: Features [0.999, 0.025]\n",
      "[0.999, 0.025]\n",
      "[5] Classified as 6 . Correct: True\n",
      "So far 36/36\n",
      "9: Features [0.439, 0.899]\n",
      "[0.439, 0.899]\n",
      "[6] Classified as 9 . Correct: True\n",
      "So far 37/37\n",
      "9: Features [0.173, 0.985]\n",
      "[0.173, 0.985]\n",
      "[7] Classified as 9 . Correct: True\n",
      "So far 38/38\n",
      "6: Features [1.8255215123859179, 0.46847939535720756]\n",
      "[1.8255215123859179, 0.46847939535720756]\n",
      "[8] Classified as 6 . Correct: True\n",
      "So far 39/39\n",
      "9: Features [1.1083632490433544, 0.7552068828327032]\n",
      "[1.1083632490433544, 0.7552068828327032]\n",
      "[9] Classified as 9 . Correct: True\n",
      "So far 40/40\n",
      "6: Features [0.997, -0.072]\n",
      "[0.997, -0.072]\n",
      "[0] Classified as 6 . Correct: True\n",
      "So far 41/41\n",
      "9: Features [0.147, 0.989]\n",
      "[0.147, 0.989]\n",
      "[1] Classified as 9 . Correct: True\n",
      "So far 42/42\n",
      "6: Features [0.999, -0.03]\n",
      "[0.999, -0.03]\n",
      "[2] Classified as 6 . Correct: True\n",
      "So far 43/43\n",
      "6: Features [0.987, -0.161]\n",
      "[0.987, -0.161]\n",
      "[3] Classified as 6 . Correct: True\n",
      "So far 44/44\n",
      "9: Features [0.338, 0.941]\n",
      "[0.338, 0.941]\n",
      "[4] Classified as 9 . Correct: True\n",
      "So far 45/45\n",
      "6: Features [0.999, 0.025]\n",
      "[0.999, 0.025]\n",
      "[5] Classified as 6 . Correct: True\n",
      "So far 46/46\n",
      "9: Features [0.439, 0.899]\n",
      "[0.439, 0.899]\n",
      "[6] Classified as 9 . Correct: True\n",
      "So far 47/47\n",
      "9: Features [0.173, 0.985]\n",
      "[0.173, 0.985]\n",
      "[7] Classified as 9 . Correct: True\n",
      "So far 48/48\n",
      "6: Features [1.8255215123859179, 0.46847939535720756]\n",
      "[1.8255215123859179, 0.46847939535720756]\n",
      "[8] Classified as 6 . Correct: True\n",
      "So far 49/49\n",
      "9: Features [1.1083632490433544, 0.7552068828327032]\n",
      "[1.1083632490433544, 0.7552068828327032]\n",
      "[9] Classified as 9 . Correct: True\n",
      "So far 50/50\n",
      "Classified correctly  50 out of  50\n"
     ]
    }
   ],
   "source": [
    "main2()"
   ]
  },
  {
   "cell_type": "code",
   "execution_count": null,
   "metadata": {
    "collapsed": true,
    "deletable": true,
    "editable": true
   },
   "outputs": [],
   "source": []
  }
 ],
 "metadata": {
  "kernelspec": {
   "display_name": "Python 3",
   "language": "python",
   "name": "python3"
  },
  "language_info": {
   "codemirror_mode": {
    "name": "ipython",
    "version": 3
   },
   "file_extension": ".py",
   "mimetype": "text/x-python",
   "name": "python",
   "nbconvert_exporter": "python",
   "pygments_lexer": "ipython3",
   "version": "3.6.2"
  }
 },
 "nbformat": 4,
 "nbformat_minor": 2
}
